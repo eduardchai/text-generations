{
 "cells": [
  {
   "cell_type": "code",
   "execution_count": 1,
   "metadata": {},
   "outputs": [],
   "source": [
    "import pandas as pd\n",
    "import string"
   ]
  },
  {
   "cell_type": "code",
   "execution_count": 2,
   "metadata": {},
   "outputs": [],
   "source": [
    "df = pd.read_csv('data/raw_reviews.csv')\n",
    "df.drop(columns=['Unnamed: 0'], inplace = True)"
   ]
  },
  {
   "cell_type": "code",
   "execution_count": 5,
   "metadata": {},
   "outputs": [],
   "source": [
    "reviews = df['Text'].tolist()"
   ]
  },
  {
   "cell_type": "code",
   "execution_count": 16,
   "metadata": {},
   "outputs": [
    {
     "data": {
      "text/plain": [
       "2459"
      ]
     },
     "execution_count": 16,
     "metadata": {},
     "output_type": "execute_result"
    }
   ],
   "source": [
    "len(reviews)"
   ]
  },
  {
   "cell_type": "markdown",
   "metadata": {},
   "source": [
    "## Data Preparation"
   ]
  },
  {
   "cell_type": "code",
   "execution_count": 7,
   "metadata": {},
   "outputs": [],
   "source": [
    "def cleanin_reviews(review):\n",
    "    # Many reviews have \\n characters through my scrape, so I need to replace those with empty spaces\n",
    "    review = review.replace('\\n\\n', ' ')\n",
    "    \n",
    "    # Splitting on spaces to tokenize\n",
    "    tokens = review.split()\n",
    "    \n",
    "    # Getting rid of punctuation because 'word.' will be considered different from 'word'\n",
    "    table = str.maketrans('', '', string.punctuation)\n",
    "    tokens = [word.translate(table) for word in tokens]\n",
    "    \n",
    "    # Simplifying my vocabulary to only include words and not smiley faces/other datatypes\n",
    "    tokens = [word for word in tokens if word.isalpha()]\n",
    "    \n",
    "    tokens = [word.lower() for word in tokens]\n",
    "    return tokens"
   ]
  },
  {
   "cell_type": "code",
   "execution_count": 8,
   "metadata": {},
   "outputs": [],
   "source": [
    "def tokenizer(data):\n",
    "    all_tokens = []\n",
    "\n",
    "    for review in data:\n",
    "        all_tokens.append(cleanin_reviews(review))\n",
    "    \n",
    "    return all_tokens"
   ]
  },
  {
   "cell_type": "code",
   "execution_count": 9,
   "metadata": {},
   "outputs": [],
   "source": [
    "def flatten(tokens):\n",
    "    flat_list = [item for sublist in tokens for item in sublist]\n",
    "    return flat_list"
   ]
  },
  {
   "cell_type": "code",
   "execution_count": 10,
   "metadata": {},
   "outputs": [],
   "source": [
    "tokenized_reviews = tokenizer(reviews)"
   ]
  },
  {
   "cell_type": "code",
   "execution_count": 11,
   "metadata": {},
   "outputs": [],
   "source": [
    "# Save cleaned tokenized reviews\n",
    "with open(\"data/clean_reviews.txt\", \"w\") as out:\n",
    "    for review in tokenized_reviews:\n",
    "        out.write(\" \".join(review) + \"\\n\")\n",
    "\n",
    "# Save cleaned tokenized reviews -> sampled\n",
    "with open(\"data/clean_reviews_sample.txt\", \"w\") as out:\n",
    "    for review in tokenized_reviews[:100]:\n",
    "        out.write(\" \".join(review) + \"\\n\")"
   ]
  },
  {
   "cell_type": "code",
   "execution_count": 12,
   "metadata": {},
   "outputs": [
    {
     "name": "stdout",
     "output_type": "stream",
     "text": [
      "Total Tokens: 670280\n",
      "Unique Tokens: 37641\n"
     ]
    }
   ],
   "source": [
    "flatten_reviews = flatten(tokenized_reviews)\n",
    "print('Total Tokens: %d' % len(flatten_reviews))\n",
    "print('Unique Tokens: %d' % len(set(flatten_reviews)))"
   ]
  },
  {
   "cell_type": "code",
   "execution_count": 13,
   "metadata": {},
   "outputs": [],
   "source": [
    "# Generate word sequence from data\n",
    "def sequence_of_tokens(stars):\n",
    "    length = 5 + 1\n",
    "    sequences = list()\n",
    "    for i in range(length, len(stars)):\n",
    "        # select sequence of tokens\n",
    "        seq = stars[i-length:i]\n",
    "        # convert into a line\n",
    "        line = ' '.join(seq)\n",
    "        # store\n",
    "        sequences.append(line)\n",
    "    print('Total Sequences: %d' % len(sequences))\n",
    "    return sequences"
   ]
  },
  {
   "cell_type": "code",
   "execution_count": 14,
   "metadata": {},
   "outputs": [
    {
     "name": "stdout",
     "output_type": "stream",
     "text": [
      "Total Sequences: 670274\n"
     ]
    }
   ],
   "source": [
    "sequence_reviews = sequence_of_tokens(flatten_reviews)"
   ]
  },
  {
   "cell_type": "code",
   "execution_count": 15,
   "metadata": {},
   "outputs": [],
   "source": [
    "# Save sequence file\n",
    "with open(\"data/sequence_reviews.txt\", \"w\") as out:\n",
    "    for review in sequence_reviews:\n",
    "        out.write(review + \"\\n\")"
   ]
  },
  {
   "cell_type": "code",
   "execution_count": null,
   "metadata": {},
   "outputs": [],
   "source": []
  }
 ],
 "metadata": {
  "kernelspec": {
   "display_name": "Python 3",
   "language": "python",
   "name": "python3"
  },
  "language_info": {
   "codemirror_mode": {
    "name": "ipython",
    "version": 3
   },
   "file_extension": ".py",
   "mimetype": "text/x-python",
   "name": "python",
   "nbconvert_exporter": "python",
   "pygments_lexer": "ipython3",
   "version": "3.6.10"
  }
 },
 "nbformat": 4,
 "nbformat_minor": 4
}
