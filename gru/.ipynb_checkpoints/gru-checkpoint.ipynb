{
 "cells": [
  {
   "cell_type": "code",
   "execution_count": 1,
   "metadata": {
    "colab": {
     "base_uri": "https://localhost:8080/",
     "height": 530
    },
    "colab_type": "code",
    "executionInfo": {
     "elapsed": 4203,
     "status": "ok",
     "timestamp": 1585336182327,
     "user": {
      "displayName": "Eduard Anthony Chai",
      "photoUrl": "https://lh3.googleusercontent.com/a-/AOh14Gg8_52fFdawSrpA0Azmn3OGWCEldAwiA1ZeYPPx=s64",
      "userId": "09591429751442597395"
     },
     "user_tz": -480
    },
    "id": "PhA0Nz9uQU8z",
    "outputId": "668cd4a2-9618-4454-ef85-7a680a8a3955"
   },
   "outputs": [
    {
     "name": "stdout",
     "output_type": "stream",
     "text": [
      "Requirement already up-to-date: gensim in /usr/local/lib/python3.6/dist-packages (3.8.1)\n",
      "Requirement already satisfied, skipping upgrade: numpy>=1.11.3 in /usr/local/lib/python3.6/dist-packages (from gensim) (1.18.2)\n",
      "Requirement already satisfied, skipping upgrade: six>=1.5.0 in /usr/local/lib/python3.6/dist-packages (from gensim) (1.12.0)\n",
      "Requirement already satisfied, skipping upgrade: scipy>=0.18.1 in /usr/local/lib/python3.6/dist-packages (from gensim) (1.4.1)\n",
      "Requirement already satisfied, skipping upgrade: smart-open>=1.8.1 in /usr/local/lib/python3.6/dist-packages (from gensim) (1.10.0)\n",
      "Requirement already satisfied, skipping upgrade: requests in /usr/local/lib/python3.6/dist-packages (from smart-open>=1.8.1->gensim) (2.21.0)\n",
      "Requirement already satisfied, skipping upgrade: google-cloud-storage in /usr/local/lib/python3.6/dist-packages (from smart-open>=1.8.1->gensim) (1.18.1)\n",
      "Requirement already satisfied, skipping upgrade: boto3 in /usr/local/lib/python3.6/dist-packages (from smart-open>=1.8.1->gensim) (1.12.27)\n",
      "Requirement already satisfied, skipping upgrade: idna<2.9,>=2.5 in /usr/local/lib/python3.6/dist-packages (from requests->smart-open>=1.8.1->gensim) (2.8)\n",
      "Requirement already satisfied, skipping upgrade: urllib3<1.25,>=1.21.1 in /usr/local/lib/python3.6/dist-packages (from requests->smart-open>=1.8.1->gensim) (1.24.3)\n",
      "Requirement already satisfied, skipping upgrade: certifi>=2017.4.17 in /usr/local/lib/python3.6/dist-packages (from requests->smart-open>=1.8.1->gensim) (2019.11.28)\n",
      "Requirement already satisfied, skipping upgrade: chardet<3.1.0,>=3.0.2 in /usr/local/lib/python3.6/dist-packages (from requests->smart-open>=1.8.1->gensim) (3.0.4)\n",
      "Requirement already satisfied, skipping upgrade: google-cloud-core<2.0dev,>=1.0.0 in /usr/local/lib/python3.6/dist-packages (from google-cloud-storage->smart-open>=1.8.1->gensim) (1.0.3)\n",
      "Requirement already satisfied, skipping upgrade: google-auth>=1.2.0 in /usr/local/lib/python3.6/dist-packages (from google-cloud-storage->smart-open>=1.8.1->gensim) (1.7.2)\n",
      "Requirement already satisfied, skipping upgrade: google-resumable-media<0.5.0dev,>=0.3.1 in /usr/local/lib/python3.6/dist-packages (from google-cloud-storage->smart-open>=1.8.1->gensim) (0.4.1)\n",
      "Requirement already satisfied, skipping upgrade: botocore<1.16.0,>=1.15.27 in /usr/local/lib/python3.6/dist-packages (from boto3->smart-open>=1.8.1->gensim) (1.15.27)\n",
      "Requirement already satisfied, skipping upgrade: s3transfer<0.4.0,>=0.3.0 in /usr/local/lib/python3.6/dist-packages (from boto3->smart-open>=1.8.1->gensim) (0.3.3)\n",
      "Requirement already satisfied, skipping upgrade: jmespath<1.0.0,>=0.7.1 in /usr/local/lib/python3.6/dist-packages (from boto3->smart-open>=1.8.1->gensim) (0.9.5)\n",
      "Requirement already satisfied, skipping upgrade: google-api-core<2.0.0dev,>=1.14.0 in /usr/local/lib/python3.6/dist-packages (from google-cloud-core<2.0dev,>=1.0.0->google-cloud-storage->smart-open>=1.8.1->gensim) (1.16.0)\n",
      "Requirement already satisfied, skipping upgrade: pyasn1-modules>=0.2.1 in /usr/local/lib/python3.6/dist-packages (from google-auth>=1.2.0->google-cloud-storage->smart-open>=1.8.1->gensim) (0.2.8)\n",
      "Requirement already satisfied, skipping upgrade: cachetools<3.2,>=2.0.0 in /usr/local/lib/python3.6/dist-packages (from google-auth>=1.2.0->google-cloud-storage->smart-open>=1.8.1->gensim) (3.1.1)\n",
      "Requirement already satisfied, skipping upgrade: rsa<4.1,>=3.1.4 in /usr/local/lib/python3.6/dist-packages (from google-auth>=1.2.0->google-cloud-storage->smart-open>=1.8.1->gensim) (4.0)\n",
      "Requirement already satisfied, skipping upgrade: setuptools>=40.3.0 in /usr/local/lib/python3.6/dist-packages (from google-auth>=1.2.0->google-cloud-storage->smart-open>=1.8.1->gensim) (46.0.0)\n",
      "Requirement already satisfied, skipping upgrade: docutils<0.16,>=0.10 in /usr/local/lib/python3.6/dist-packages (from botocore<1.16.0,>=1.15.27->boto3->smart-open>=1.8.1->gensim) (0.15.2)\n",
      "Requirement already satisfied, skipping upgrade: python-dateutil<3.0.0,>=2.1 in /usr/local/lib/python3.6/dist-packages (from botocore<1.16.0,>=1.15.27->boto3->smart-open>=1.8.1->gensim) (2.8.1)\n",
      "Requirement already satisfied, skipping upgrade: protobuf>=3.4.0 in /usr/local/lib/python3.6/dist-packages (from google-api-core<2.0.0dev,>=1.14.0->google-cloud-core<2.0dev,>=1.0.0->google-cloud-storage->smart-open>=1.8.1->gensim) (3.10.0)\n",
      "Requirement already satisfied, skipping upgrade: googleapis-common-protos<2.0dev,>=1.6.0 in /usr/local/lib/python3.6/dist-packages (from google-api-core<2.0.0dev,>=1.14.0->google-cloud-core<2.0dev,>=1.0.0->google-cloud-storage->smart-open>=1.8.1->gensim) (1.51.0)\n",
      "Requirement already satisfied, skipping upgrade: pytz in /usr/local/lib/python3.6/dist-packages (from google-api-core<2.0.0dev,>=1.14.0->google-cloud-core<2.0dev,>=1.0.0->google-cloud-storage->smart-open>=1.8.1->gensim) (2018.9)\n",
      "Requirement already satisfied, skipping upgrade: pyasn1<0.5.0,>=0.4.6 in /usr/local/lib/python3.6/dist-packages (from pyasn1-modules>=0.2.1->google-auth>=1.2.0->google-cloud-storage->smart-open>=1.8.1->gensim) (0.4.8)\n"
     ]
    }
   ],
   "source": [
    "!pip install --upgrade gensim"
   ]
  },
  {
   "cell_type": "code",
   "execution_count": null,
   "metadata": {
    "colab": {},
    "colab_type": "code",
    "id": "JHqe6RonQxhM"
   },
   "outputs": [],
   "source": [
    "from IPython.display import Image\n",
    "from IPython.core.display import HTML\n",
    "\n",
    "from IPython.display import clear_output"
   ]
  },
  {
   "cell_type": "code",
   "execution_count": null,
   "metadata": {
    "colab": {},
    "colab_type": "code",
    "id": "wF09RWfxQ08X"
   },
   "outputs": [],
   "source": [
    "from collections import namedtuple\n",
    "\n",
    "import numpy as np\n",
    "from tqdm import tqdm\n",
    "\n",
    "import pandas as pd\n",
    "\n",
    "from gensim.corpora import Dictionary\n",
    "\n",
    "import torch\n",
    "from torch import nn, optim, tensor, autograd\n",
    "from torch.nn import functional as F\n",
    "from torch.utils.data import Dataset, DataLoader\n",
    "\n",
    "from torch.nn.utils.rnn import pack_padded_sequence, pad_packed_sequence\n",
    "\n",
    "device = 'cuda' if torch.cuda.is_available() else 'cpu'"
   ]
  },
  {
   "cell_type": "code",
   "execution_count": 4,
   "metadata": {
    "colab": {
     "base_uri": "https://localhost:8080/",
     "height": 34
    },
    "colab_type": "code",
    "executionInfo": {
     "elapsed": 4944,
     "status": "ok",
     "timestamp": 1585336183086,
     "user": {
      "displayName": "Eduard Anthony Chai",
      "photoUrl": "https://lh3.googleusercontent.com/a-/AOh14Gg8_52fFdawSrpA0Azmn3OGWCEldAwiA1ZeYPPx=s64",
      "userId": "09591429751442597395"
     },
     "user_tz": -480
    },
    "id": "MNKPSP-MQ4fP",
    "outputId": "83ace933-b95c-4d5f-89e6-54868446fe19"
   },
   "outputs": [
    {
     "data": {
      "text/plain": [
       "<torch._C.Generator at 0x7f77c18abd90>"
      ]
     },
     "execution_count": 4,
     "metadata": {
      "tags": []
     },
     "output_type": "execute_result"
    }
   ],
   "source": [
    "import matplotlib.pyplot as plt\n",
    "import seaborn as sns\n",
    "\n",
    "sns.set_style(\"darkgrid\")\n",
    "sns.set(rc={'figure.figsize':(12, 8)})\n",
    "\n",
    "\n",
    "torch.manual_seed(42)"
   ]
  },
  {
   "cell_type": "code",
   "execution_count": null,
   "metadata": {
    "colab": {},
    "colab_type": "code",
    "id": "TJ-Ag7_pQ9Li"
   },
   "outputs": [],
   "source": [
    "try: # Use the default NLTK tokenizer.\n",
    "    from nltk import word_tokenize, sent_tokenize \n",
    "    # Testing whether it works. \n",
    "    # Sometimes it doesn't work on some machines because of setup issues.\n",
    "    word_tokenize(sent_tokenize(\"This is a foobar sentence. Yes it is.\")[0])\n",
    "except: # Use a naive sentence tokenizer and toktok.\n",
    "    import re\n",
    "    from nltk.tokenize import ToktokTokenizer\n",
    "    # See https://stackoverflow.com/a/25736515/610569\n",
    "    sent_tokenize = lambda x: re.split(r'(?<=[^A-Z].[.?]) +(?=[A-Z])', x)\n",
    "    # Use the toktok tokenizer that requires no dependencies.\n",
    "    toktok = ToktokTokenizer()\n",
    "    word_tokenize = word_tokenize = toktok.tokenize"
   ]
  },
  {
   "cell_type": "code",
   "execution_count": null,
   "metadata": {
    "colab": {},
    "colab_type": "code",
    "id": "AmRdkuSMRKYF"
   },
   "outputs": [],
   "source": [
    "import os\n",
    "import requests\n",
    "import io #codecs\n",
    "\n",
    "\n",
    "# Text version of https://kilgarriff.co.uk/Publications/2005-K-lineer.pdf\n",
    "with io.open('../data/clean_reviews.txt', encoding='utf8') as fin:\n",
    "    text = fin.read()"
   ]
  },
  {
   "cell_type": "code",
   "execution_count": null,
   "metadata": {
    "colab": {},
    "colab_type": "code",
    "id": "McUZBCUsTsI7"
   },
   "outputs": [],
   "source": [
    "# need to do sampling because not enough resources\n",
    "text_tmp = text.split(\"\\n\")\n",
    "text_sampling = text_tmp[:100]"
   ]
  },
  {
   "cell_type": "code",
   "execution_count": null,
   "metadata": {
    "colab": {},
    "colab_type": "code",
    "id": "h9sfWvq2T9kL"
   },
   "outputs": [],
   "source": [
    "text_sampling = \"\\n\".join(text_sampling)"
   ]
  },
  {
   "cell_type": "code",
   "execution_count": null,
   "metadata": {
    "colab": {},
    "colab_type": "code",
    "id": "FGn_UIVeRVZX"
   },
   "outputs": [],
   "source": [
    "# Tokenize the text.\n",
    "tokenized_text = [list(map(str.lower, word_tokenize(sent))) \n",
    "                  for sent in sent_tokenize(text_sampling)]"
   ]
  },
  {
   "cell_type": "code",
   "execution_count": null,
   "metadata": {
    "colab": {},
    "colab_type": "code",
    "id": "ENeHecGIRWna"
   },
   "outputs": [],
   "source": [
    "class YelpDataset(nn.Module):\n",
    "    def __init__(self, texts):\n",
    "        self.texts = texts\n",
    "        \n",
    "        # Initialize the vocab \n",
    "        special_tokens = {'<pad>': 0, '<unk>':1, '<s>':2, '</s>':3}\n",
    "        self.vocab = Dictionary(texts)\n",
    "        self.vocab.patch_with_special_tokens(special_tokens)\n",
    "        \n",
    "        # Keep track of the vocab size.\n",
    "        self.vocab_size = len(self.vocab)\n",
    "        \n",
    "        # Keep track of how many data points.\n",
    "        self._len = len(texts)\n",
    "        \n",
    "        # Find the longest text in the data.\n",
    "        self.max_len = max(len(txt) for txt in texts) \n",
    "        \n",
    "    def __getitem__(self, index):\n",
    "        vectorized_sent = self.vectorize(self.texts[index])\n",
    "        x_len = len(vectorized_sent)\n",
    "        # To pad the sentence:\n",
    "        # Pad left = 0; Pad right = max_len - len of sent.\n",
    "        pad_dim = (0, self.max_len - len(vectorized_sent))\n",
    "        vectorized_sent = F.pad(vectorized_sent, pad_dim, 'constant')\n",
    "        return {'x':vectorized_sent[:-1], \n",
    "                'y':vectorized_sent[1:], \n",
    "                'x_len':x_len}\n",
    "    \n",
    "    def __len__(self):\n",
    "        return self._len\n",
    "    \n",
    "    def vectorize(self, tokens, start_idx=2, end_idx=3):\n",
    "        \"\"\"\n",
    "        :param tokens: Tokens that should be vectorized. \n",
    "        :type tokens: list(str)\n",
    "        \"\"\"\n",
    "        # See https://radimrehurek.com/gensim/corpora/dictionary.html#gensim.corpora.dictionary.Dictionary.doc2idx \n",
    "        # Lets just cast list of indices into torch tensors directly =)\n",
    "        \n",
    "        vectorized_sent = [start_idx] + self.vocab.doc2idx(tokens) + [end_idx]\n",
    "        return torch.tensor(vectorized_sent)\n",
    "    \n",
    "    def unvectorize(self, indices):\n",
    "        \"\"\"\n",
    "        :param indices: Converts the indices back to tokens.\n",
    "        :type tokens: list(int)\n",
    "        \"\"\"\n",
    "        return [self.vocab[i] for i in indices]"
   ]
  },
  {
   "cell_type": "code",
   "execution_count": 11,
   "metadata": {
    "colab": {
     "base_uri": "https://localhost:8080/",
     "height": 34
    },
    "colab_type": "code",
    "executionInfo": {
     "elapsed": 4908,
     "status": "ok",
     "timestamp": 1585336183090,
     "user": {
      "displayName": "Eduard Anthony Chai",
      "photoUrl": "https://lh3.googleusercontent.com/a-/AOh14Gg8_52fFdawSrpA0Azmn3OGWCEldAwiA1ZeYPPx=s64",
      "userId": "09591429751442597395"
     },
     "user_tz": -480
    },
    "id": "JZ6kHWxXRvEp",
    "outputId": "a077b1e8-9f1a-4027-87fa-62d930594c0d"
   },
   "outputs": [
    {
     "data": {
      "text/plain": [
       "4076"
      ]
     },
     "execution_count": 11,
     "metadata": {
      "tags": []
     },
     "output_type": "execute_result"
    }
   ],
   "source": [
    "yelp_data = YelpDataset(tokenized_text)\n",
    "len(yelp_data.vocab)"
   ]
  },
  {
   "cell_type": "code",
   "execution_count": 12,
   "metadata": {
    "colab": {
     "base_uri": "https://localhost:8080/",
     "height": 34
    },
    "colab_type": "code",
    "executionInfo": {
     "elapsed": 5174,
     "status": "ok",
     "timestamp": 1585336183364,
     "user": {
      "displayName": "Eduard Anthony Chai",
      "photoUrl": "https://lh3.googleusercontent.com/a-/AOh14Gg8_52fFdawSrpA0Azmn3OGWCEldAwiA1ZeYPPx=s64",
      "userId": "09591429751442597395"
     },
     "user_tz": -480
    },
    "id": "2a1uG3yUR1Tn",
    "outputId": "bdedde37-9201-422d-88a6-26edbb5ef7f2"
   },
   "outputs": [
    {
     "name": "stdout",
     "output_type": "stream",
     "text": [
      "{'x': tensor([[   2, 3526,    6,  ...,  520, 2498,  257]]), 'y': tensor([[3526,    6, 4015,  ..., 2498,  257, 1537]]), 'x_len': tensor([21213])}\n"
     ]
    }
   ],
   "source": [
    "batch_size = 15\n",
    "dataloader = DataLoader(dataset=yelp_data, batch_size=batch_size, shuffle=True)\n",
    "\n",
    "for data_dict in dataloader:\n",
    "    # Sort indices of data in batch by lengths.\n",
    "    sorted_indices = np.array(data_dict['x_len']).argsort()[::-1].tolist()\n",
    "    data_batch = {name:_tensor[sorted_indices]\n",
    "                  for name, _tensor in data_dict.items()}\n",
    "    print(data_batch)\n",
    "    break"
   ]
  },
  {
   "cell_type": "code",
   "execution_count": null,
   "metadata": {
    "colab": {},
    "colab_type": "code",
    "id": "HYEoErwySlYh"
   },
   "outputs": [],
   "source": [
    "class Generator(nn.Module):\n",
    "    def __init__(self, vocab_size, embedding_size, hidden_size, num_layers):\n",
    "        super(Generator, self).__init__()\n",
    "\n",
    "        # Initialize the embedding layer with the \n",
    "        # - size of input (i.e. no. of words in input vocab)\n",
    "        # - no. of hidden nodes in the embedding layer\n",
    "        self.embedding = nn.Embedding(vocab_size, embedding_size, padding_idx=0)\n",
    "        \n",
    "        # Initialize the GRU with the \n",
    "        # - size of the input (i.e. embedding layer)\n",
    "        # - size of the hidden layer \n",
    "        self.gru = nn.GRU(embedding_size, hidden_size, num_layers, batch_first=True)\n",
    "        \n",
    "        # Initialize the \"classifier\" layer to map the RNN outputs\n",
    "        # to the vocabulary. Remember we need to -1 because the \n",
    "        # vectorized sentence we left out one token for both x and y:\n",
    "        # - size of hidden_size of the GRU output.\n",
    "        # - size of vocabulary\n",
    "        self.classifier = nn.Linear(hidden_size, vocab_size)\n",
    "        \n",
    "    def forward(self, inputs, use_softmax=False, hidden=None):\n",
    "        # Look up for the embeddings for the input word indices.\n",
    "        embedded = self.embedding(inputs)\n",
    "        # Put the embedded inputs into the GRU.\n",
    "        output, hidden = self.gru(embedded, hidden)\n",
    "        \n",
    "        # Matrix manipulation magic.\n",
    "        batch_size, sequence_len, hidden_size = output.shape\n",
    "        # Technically, linear layer takes a 2-D matrix as input, so more manipulation...\n",
    "        output = output.contiguous().view(batch_size * sequence_len, hidden_size)\n",
    "        # Apply dropout.\n",
    "        output = F.dropout(output, 0.5)\n",
    "        # Put it through the classifier\n",
    "        # And reshape it to [batch_size x sequence_len x vocab_size]\n",
    "        output = self.classifier(output).view(batch_size, sequence_len, -1)\n",
    "        \n",
    "        return (F.softmax(output,dim=2), hidden) if use_softmax else (output, hidden)"
   ]
  },
  {
   "cell_type": "code",
   "execution_count": null,
   "metadata": {
    "colab": {},
    "colab_type": "code",
    "id": "N85HRxnvStt0"
   },
   "outputs": [],
   "source": [
    "# Set the hidden_size of the GRU \n",
    "embed_size = 64\n",
    "hidden_size = 64\n",
    "num_layers = 2\n",
    "\n",
    "_encoder = Generator(len(yelp_data.vocab), embed_size, hidden_size, num_layers)"
   ]
  },
  {
   "cell_type": "code",
   "execution_count": null,
   "metadata": {
    "colab": {},
    "colab_type": "code",
    "id": "334HGossS9T_"
   },
   "outputs": [],
   "source": [
    "# Take a batch.\n",
    "batch_size = 15\n",
    "dataloader = DataLoader(dataset=yelp_data, batch_size=batch_size, shuffle=True)\n",
    "\n",
    "_batch = next(iter(dataloader))\n",
    "_inputs, _lengths = _batch['x'], _batch['x_len']\n",
    "_targets = _batch['y']"
   ]
  },
  {
   "cell_type": "code",
   "execution_count": 16,
   "metadata": {
    "colab": {
     "base_uri": "https://localhost:8080/",
     "height": 68
    },
    "colab_type": "code",
    "executionInfo": {
     "elapsed": 8715,
     "status": "ok",
     "timestamp": 1585336186927,
     "user": {
      "displayName": "Eduard Anthony Chai",
      "photoUrl": "https://lh3.googleusercontent.com/a-/AOh14Gg8_52fFdawSrpA0Azmn3OGWCEldAwiA1ZeYPPx=s64",
      "userId": "09591429751442597395"
     },
     "user_tz": -480
    },
    "id": "5VOgUHsETB_-",
    "outputId": "2d9df491-f85f-4c1c-c3db-0354bd7fe5e2"
   },
   "outputs": [
    {
     "name": "stdout",
     "output_type": "stream",
     "text": [
      "Output sizes:\t torch.Size([1, 21210, 4076])\n",
      "Input sizes:\t 15 21210 4076\n",
      "Target sizes:\t torch.Size([1, 21210])\n"
     ]
    }
   ],
   "source": [
    "_output, _hidden = _encoder(_inputs)\n",
    "print('Output sizes:\\t', _output.shape)\n",
    "print('Input sizes:\\t', batch_size, yelp_data.max_len -1, len(yelp_data.vocab))\n",
    "print('Target sizes:\\t', _targets.shape)"
   ]
  },
  {
   "cell_type": "code",
   "execution_count": 17,
   "metadata": {
    "colab": {
     "base_uri": "https://localhost:8080/",
     "height": 34
    },
    "colab_type": "code",
    "executionInfo": {
     "elapsed": 8709,
     "status": "ok",
     "timestamp": 1585336186928,
     "user": {
      "displayName": "Eduard Anthony Chai",
      "photoUrl": "https://lh3.googleusercontent.com/a-/AOh14Gg8_52fFdawSrpA0Azmn3OGWCEldAwiA1ZeYPPx=s64",
      "userId": "09591429751442597395"
     },
     "user_tz": -480
    },
    "id": "6VyEy8yaTKQl",
    "outputId": "0b2b5207-fedd-455e-8d4d-949760db933b"
   },
   "outputs": [
    {
     "data": {
      "text/plain": [
       "torch.Size([1, 21210, 4076])"
      ]
     },
     "execution_count": 17,
     "metadata": {
      "tags": []
     },
     "output_type": "execute_result"
    }
   ],
   "source": [
    "_output.shape"
   ]
  },
  {
   "cell_type": "code",
   "execution_count": 18,
   "metadata": {
    "colab": {
     "base_uri": "https://localhost:8080/",
     "height": 34
    },
    "colab_type": "code",
    "executionInfo": {
     "elapsed": 10488,
     "status": "ok",
     "timestamp": 1585336188714,
     "user": {
      "displayName": "Eduard Anthony Chai",
      "photoUrl": "https://lh3.googleusercontent.com/a-/AOh14Gg8_52fFdawSrpA0Azmn3OGWCEldAwiA1ZeYPPx=s64",
      "userId": "09591429751442597395"
     },
     "user_tz": -480
    },
    "id": "MVZ4GKHdUhLy",
    "outputId": "b42efccc-16e1-4a33-b76f-c253ee4a2eff"
   },
   "outputs": [
    {
     "name": "stdout",
     "output_type": "stream",
     "text": [
      "torch.Size([1, 4076])\n"
     ]
    }
   ],
   "source": [
    "_, predicted_indices = torch.max(_output, dim=1)\n",
    "print(predicted_indices.shape)"
   ]
  },
  {
   "cell_type": "code",
   "execution_count": null,
   "metadata": {
    "colab": {},
    "colab_type": "code",
    "id": "-ZaImAjjUoIU"
   },
   "outputs": [],
   "source": [
    "device = 'cuda' if torch.cuda.is_available() else 'cpu'\n",
    "\n",
    "_hyper = ['embed_size', 'hidden_size', 'num_layers',\n",
    "          'loss_func', 'learning_rate', 'optimizer', 'batch_size']\n",
    "Hyperparams = namedtuple('Hyperparams', _hyper)\n",
    "\n",
    "\n",
    "# hyperparams = Hyperparams(embed_size=256, hidden_size=128, num_layers=2,\n",
    "#                           loss_func=nn.CrossEntropyLoss,\n",
    "#                           learning_rate=0.03, optimizer=optim.Adam, batch_size=64)\n",
    "\n",
    "# hyperparams"
   ]
  },
  {
   "cell_type": "code",
   "execution_count": null,
   "metadata": {
    "colab": {},
    "colab_type": "code",
    "id": "2kpUbgTXU77F"
   },
   "outputs": [],
   "source": [
    "# Training routine.\n",
    "def train(num_epochs, dataloader, model, criterion, optimizer):\n",
    "    losses = []\n",
    "    plt.ion()\n",
    "    for _e in range(num_epochs):\n",
    "        for batch in tqdm(dataloader):\n",
    "            # Zero gradient.\n",
    "            optimizer.zero_grad()\n",
    "            x = batch['x'].to(device)\n",
    "            x_len = batch['x_len'].to(device)\n",
    "            y = batch['y'].to(device)\n",
    "            # Feed forward. \n",
    "            output, hidden = model(x, use_softmax=False)\n",
    "            # Compute loss:\n",
    "            # Shape of the `output` is [batch_size x sequence_len x vocab_size]\n",
    "            # Shape of `y` is [batch_size x sequence_len]\n",
    "            # CrossEntropyLoss expects `output` to be [batch_size x vocab_size x sequence_len]\n",
    "            _, prediction = torch.max(output, dim=2)\n",
    "            loss = criterion(output.permute(0, 2, 1), y)\n",
    "            loss.backward()\n",
    "            optimizer.step()\n",
    "            losses.append(loss.float().data)\n",
    "\n",
    "        clear_output(wait=True)\n",
    "        plt.plot(losses)\n",
    "        plt.pause(0.05)\n",
    "\n",
    "\n",
    "def initialize_data_model_optim_loss(hyperparams):\n",
    "    # Initialize the dataset and dataloader.\n",
    "    yelp_data = YelpDataset(tokenized_text)\n",
    "    dataloader = DataLoader(dataset=yelp_data, \n",
    "                            batch_size=hyperparams.batch_size, \n",
    "                            shuffle=True)\n",
    "\n",
    "    # Loss function.\n",
    "    criterion = hyperparams.loss_func(ignore_index=yelp_data.vocab.token2id['<pad>'], \n",
    "                                      reduction='mean')\n",
    "\n",
    "    # Model.\n",
    "    model = Generator(len(yelp_data.vocab), hyperparams.embed_size, \n",
    "                      hyperparams.hidden_size, hyperparams.num_layers).to(device)\n",
    "\n",
    "    # Optimizer.\n",
    "    optimizer = hyperparams.optimizer(model.parameters(), lr=hyperparams.learning_rate)\n",
    "    \n",
    "    return dataloader, model, optimizer, criterion"
   ]
  },
  {
   "cell_type": "code",
   "execution_count": null,
   "metadata": {
    "colab": {},
    "colab_type": "code",
    "id": "VRjEPIS0U_vM"
   },
   "outputs": [],
   "source": [
    "def generate_example(model, temperature=1.0, max_len=100, hidden_state=None):\n",
    "    start_token, start_idx = '<s>', 2\n",
    "    # Start state.\n",
    "    inputs = torch.tensor(yelp_data.vocab.token2id[start_token]).unsqueeze(0).unsqueeze(0).to(device)\n",
    "\n",
    "    sentence = [start_token]\n",
    "    i = 0\n",
    "    while i < max_len and sentence[-1] not in ['</s>', '<pad>']:\n",
    "        i += 1\n",
    "        \n",
    "        embedded = model.embedding(inputs)\n",
    "        output, hidden_state = model.gru(embedded, hidden_state)\n",
    "\n",
    "        batch_size, sequence_len, hidden_size = output.shape\n",
    "        output = output.contiguous().view(batch_size * sequence_len, hidden_size)    \n",
    "        output = model.classifier(output).view(batch_size, sequence_len, -1).squeeze(0)\n",
    "        #_, prediction = torch.max(F.softmax(output, dim=2), dim=2)\n",
    "        \n",
    "        word_weights = output.div(temperature).exp().cpu()\n",
    "        if len(word_weights.shape) > 1:\n",
    "            word_weights = word_weights[-1] # Pick the last word.    \n",
    "        word_idx = torch.multinomial(word_weights, 1).view(-1)\n",
    "        \n",
    "        sentence.append(yelp_data.vocab[int(word_idx)])\n",
    "        \n",
    "        inputs = tensor([yelp_data.vocab.token2id[word] for word in sentence]).unsqueeze(0).to(device)\n",
    "    print(' '.join(sentence))"
   ]
  },
  {
   "cell_type": "code",
   "execution_count": 22,
   "metadata": {
    "colab": {
     "base_uri": "https://localhost:8080/",
     "height": 485
    },
    "colab_type": "code",
    "executionInfo": {
     "elapsed": 477,
     "status": "ok",
     "timestamp": 1585336920986,
     "user": {
      "displayName": "Eduard Anthony Chai",
      "photoUrl": "https://lh3.googleusercontent.com/a-/AOh14Gg8_52fFdawSrpA0Azmn3OGWCEldAwiA1ZeYPPx=s64",
      "userId": "09591429751442597395"
     },
     "user_tz": -480
    },
    "id": "5d9tPz0pVJxG",
    "outputId": "f832b474-00c8-4193-f0f2-2b688fc57aef"
   },
   "outputs": [
    {
     "data": {
      "image/png": "[encoded data removed]",
      "text/plain": [
       "<Figure size 864x576 with 1 Axes>"
      ]
     },
     "metadata": {
      "tags": []
     },
     "output_type": "display_data"
    }
   ],
   "source": [
    "hyperparams = Hyperparams(embed_size=64, hidden_size=128, num_layers=2,\n",
    "                          loss_func=nn.CrossEntropyLoss,\n",
    "                          learning_rate=0.03, optimizer=optim.Adam, batch_size=32)\n",
    "\n",
    "dataloader, model, optimizer, criterion = initialize_data_model_optim_loss(hyperparams)\n",
    "\n",
    "train(500, dataloader, model, criterion, optimizer)"
   ]
  },
  {
   "cell_type": "code",
   "execution_count": 24,
   "metadata": {
    "colab": {
     "base_uri": "https://localhost:8080/",
     "height": 207
    },
    "colab_type": "code",
    "executionInfo": {
     "elapsed": 16217,
     "status": "ok",
     "timestamp": 1585336987552,
     "user": {
      "displayName": "Eduard Anthony Chai",
      "photoUrl": "https://lh3.googleusercontent.com/a-/AOh14Gg8_52fFdawSrpA0Azmn3OGWCEldAwiA1ZeYPPx=s64",
      "userId": "09591429751442597395"
     },
     "user_tz": -480
    },
    "id": "Q_zzuhkGVRRb",
    "outputId": "4ab6666e-f8d0-44d6-a4e7-7503dddd8f81"
   },
   "outputs": [
    {
     "name": "stdout",
     "output_type": "stream",
     "text": [
      "<s> talk like an elevator but it was just into my favorite only go but everything with your jack but i have a drink of us it be good get me and i cant wait to come back if you have the things of to the next who like have had to catch the new of point with a low food here everything and did it did since i just sit for one thing of the bartender you cant wait even more this is and definitely need but the comfort of their barbecue of options and the entire city was very good was good as well but it was so good you can find always find that their quality but service in the host our great and quality got and are great service in the menu is too the food that i did it was so good i like have on the food just as you can back the food was nothing short of night in the food here is a very good drink and an ideal ideal ideal first combination pastries or an experience dining experience i have to get of the food as also wait to this place was ate back grand this meal to want to who what for one point we had a little one of the best chef when it was amazing just sort of the meat were very a good food hand drinks it once a freshly is extremely platter salad to be table to more die and good food in new york city the place are good enough great for at one of the best half is available here is top top notch danny meyer does it friendly place to want to delivery and the food is even well quality burger from the food\n",
      "<s> talk also of something or rice of dishes are drinks its salad to be back here is a level of products bean and woorijip or partner and cant w mushrooms of most importantly the chocolate chip such a date that food and an man food and drinks than the way as choose for delivery and the menu was always i had a bucket of diet i came with a big fan from the bakery also with a amongst and it was pretty high quality ticket no tomatoes tahini and burger egg chicken is which is pretty inexpensive all things cant mushrooms and getting an delivery but it was an average was are experience was just of the food is so good there is something to get one one but is by that was it was just took the menu was so well and an an bouche bit waitress i had just miss he am so with a things with another location it was set in the menu is quite overwhelming with so many too ice cream for with weeks cheese and both youll dont get the more of a bit of the way its a good and the cake thank you also add on my thai tea and then have just the way for me that so will want to be more but many things was cant wait for this only recommend the food enough i it was just next group is so under will packed and then it like the best omakase menu not bite was of all at all they take a little bit punch but will more than on the next before after coming up is a great dinner are very long will more back and try the food was delish to boot was great there is\n",
      "<s> talk well with drinks business the next experience was amazing on one of each flavor for just a great and i had been with a diet food and just the super affordable i had had to get every bite since for me to go to feed the food stands on the procedure at the top only than a few items of a corporate but bite with a go for me cant take more general very its perfect this place is over the area is wine what the basement of the ice cream so we ordered the restaurant but it was really good they have every menu of the mimosas you can get full to the next experience i had a great experience we at brunch lunch but just for a couple of for theyre our group is btw you can walk from its pictures is the best korean is very good the bowls was you can this place from the food for a special experience they take love a little flavor i do to their soft opening for a microneedling tea and it is you if youre looking for a piece of in ice cream for the ribs but its not tell you get especially the menu is at amazing the restaurant for its so more but if you can order a long the best and them on the food just as at a but there were also wait more wait here only an which are great taste you can walk on why delicious that i can go you have a nice of the burger cream is that i really two their signature here is perfect drink i was that they also have the rice is very good in the city and it was good the whole show in my\n",
      "<s> talk everything but will more room garlic restaurant and a cooked food always enough enough good city for the wait for the long room time i also enough so much every time we had a great and it was delicious i am not to that for more my appointment we had not tried and the general sweet and portion on the menu is these group excellent what is the bar here is so well here will definitely it was made restaurant with a great experience excellent and the food was so food was great and i couldnt i am not feel good i didnt get one of the best half is clean and delicious my date like in and it is a good and delicious too much with be back and things at all and the things was soggy rather than wrong with the options has not recommended with and then it was delicious this or not too long my date different ordered and i did it i thought it was interesting pepper and onion kulcha paneer bhurji masala every service is phenomenal salad and an part of the food was so sweet they we really had egg every chipotle so portion of the night we ordered the food was nothing short of the thai cake potatoes were grilled too cheese i had to get my new york city me cant have a scoop of top no and its perfect in new york city the place are small good food with truffle date we like a few things well these not too delicious your btw you can call at my me at the food dinner i was so at they come that all ready to make one your mule and the city it is from the btw you can call\n",
      "<s> talk more vodka but well but if youre for the better more who high quality than the first time i had a great and i did not finish it so portion were january has a platter here just another drink in garlic and great potential and need and not also too each their pizza and just getting to let the items at the bar here is just for me we were able to come that the service was very friendly and the bar was service was place in the city it is from the city was like we got a pico time they can be back and i recommend a great experience we were great for me i was able to their new york time for this is by the city is very delicious it like the wait you wont be go to be beer i had just waited for the general popular wine spot wasnt to die for my entire hrs i was here ive got your day too menu me good in price at the night you want a menu of but i could on the winter and it was it was definitely would back for her please with my wanted with the night i have ever everyday cheese great kind of served as tender and just reason just pretty a drink too and it was very good i had had and not it but it was good i had was pretty good for me the idea of a cooked pan are view from the best part for me this has mixed place taste and this ive had i feel had a with quality of our dishes ordered their menu and all and great service in the way i had not a good place was so much yet\n",
      "<s> talk like an ideal meal and so much yet do to sit on the food but also the burger to the city it was really good one new york city only forward was served in its point with first and then a best of it is great there came to get when you it was satisfying and i did not feel good is clean with a little very taste that its pretty given the mixed grill platter and my friend in my dinner i had to an extra with next birthday here but if you come for small table to more meat more if you also tickets just even more school everything of their spicy and an all of great dishes on a things of as it at all the best part at pizza and the best is kind of food what they i thought in price theres a long experience for the best time you can die to the food as he typically just for my favorite thing it was so good i love these us dont to get of this place i had a reservation for a special you can walk in a little of the burger about just as its not best of the best flavor is very good i not love this place and i was welcoming and this place i just it was satisfying and my group of all at night i just the wait here to all and the best is a so good i really like it does never to the best but all i had to get my new york time if you can their first of the area are before this is the great service has their menu place is you definitely will be sure i up the way for me\n",
      "<s> talk more if you i just have the new place for a week thing i had the long when in the city was about tatsu has been while too and i it was a good cake on this time the place i had been to yourself a fastcasual barbecue chain but only feet knows what my heart of this world just the food and short but i could have go be pretty good and bread it was an elevator but it was delicious to choose as well but all you can come here of all only with a reservation for the next high quality but you just have to get of each one of the cheese here are absurdly massive ask them to come that cut it was popular good bakery was quite accurate given the burger in taste that experience i had than into the food but it just was pretty excited to get me out to spend about stories tall and delivery and look more than make all of their breads with an sauceyara was the topped with drinks was pan and it was fresh for me tasted so well i usually eat a couple bean and pastries after not best its very generous and this time the city the sandwich as much and more than than the more of the background other than to the vessel in the menu was excited and up on the menu well with chef and corn on a table so great and for the whole ill was a very good me and all i had a first of in the next time i like a great experience i it was very fresh i would recommend going to it it was good i sort up on the menu it was good i sort\n",
      "<s> talk always of whole food i had a side of two our dishes here are pretty good for me sweet and tart the best kind of options and great fun with as i cant wait to come back here exceeded my an time the menu is the meal fastcasual barbecue across my this is the bar about chipotle service i had but i cant wait to go a first menu will be back for small bottle every corporate and favorite me was like all for a nice lunch or dinner it was definitely i had just a wait for the long experience that and my birthday and lunch it did bradshaw and a main seeking susan and then glaze the outer edges with nyc and forth out was pretty totally was great and i did convinced me for a corporate lunch or dining experience for the food or just did quality than restaurant but to its special flavor in the procedure your brows look really dark thats normal part of that is just the freshness of the ink plus the food but id back i found myself more for service i it was so good we had in a korean experience you can get one come here but just the way to the next of the mexican with a fantastic food you can be first and see the food especially they can make it mixed delicious of the service is on their next good or dish good around one restaurant in one time i have a restaurant of their things here will also that in the city the place they have tell its in the bar about stories if youre to come here is to come for on all the pizza was definitely back ask for a quiet of so\n",
      "<s> talk well with skincare and this world id always it was the bartender it does just had some variety of this half restaurant of the food potatoes are pretty good and just did quality not a of food for a drink and i did not finish it so portion is great for the price at least for mei would love to come back for the pizza and definitely could see myself coming back here in general service was good my only pet peeve was that our group of all ordered burgers and it took a very long time to get all of them out some of us felt too awkward to eat ours it was a corporate lunch and waiting made things soggy so places like this like so more many bite to eat i just the weekend the karaage bowl was rice short of the food experience was amazing the delicious that i really great which and if you can get sure they serve a great experience and i did not finish it so portion is great for the entire city to fall out of this amazing our dishes out full go here is just i felt when we had just it but the procedure will be back for their out of this world it is a good card pick up the price was i love these our night and i did not feel also you can get one of the dishes opening yet it was just point and just what us this is how it was a good food with as you want a great and this or only go on the next side with go to the general is small few of food i love a great and it was satisfying and portion is great as like\n",
      "<s> talk well with plenty of food i had a great experience i think what makes this place a bit off for others is the long over me was very cool the garlic and quickly and an ideal food you can get one of the rice is very delicious these one of the rice the best omakase of amazing it is that is always tasty and lovely chef and its more but if you need to get everything drinks you a breakfast than the touchup business the burger with a platter with apple and more we ordered your first cant need or signature with a lot of sauce with sides delivery and potatoes that the food is a very good i can get one of the dishes are in the night we came ordered which is sweet and then a best of the avocado this place in and to tip they have like house but we got the wait to have to it is top experience with an side and their way i not feel good these were he to my for me is take a wonderful of the menu is when i saw the exterior of raku for the first time it was so well and an ideal extra i look some potential and i have for the next dinner comes with attention in a sample of food here is delicious drinks its all of their great service is on the entire city is not good and definitely the best part of the food of local sprouts were did perfectly and not too long in me good for one kind of these yet satisfying but suite its super is but on the next experience on the food was i dont ordered one but is more than you you can go\n"
     ]
    }
   ],
   "source": [
    "for _ in range(10):\n",
    "    generate_example(model, temperature=0.7, max_len=300)"
   ]
  },
  {
   "cell_type": "code",
   "execution_count": null,
   "metadata": {
    "colab": {},
    "colab_type": "code",
    "id": "dMW1x06GX6t5"
   },
   "outputs": [],
   "source": [
    "import json\n",
    "torch.save(model.state_dict(), 'gru-model.pth')"
   ]
  },
  {
   "cell_type": "code",
   "execution_count": null,
   "metadata": {},
   "outputs": [],
   "source": [
    "with open('gru-model.json', 'w') as fout:\n",
    "    json.dump(dict(hyperparams_str._asdict()), fout)"
   ]
  }
 ],
 "metadata": {
  "accelerator": "GPU",
  "colab": {
   "authorship_tag": "ABX9TyMH8lGgvOZFlvlBWMkxzL+t",
   "collapsed_sections": [],
   "name": "gru.ipynb",
   "provenance": [],
   "toc_visible": true
  },
  "kernelspec": {
   "display_name": "Python 3",
   "language": "python",
   "name": "python3"
  },
  "language_info": {
   "codemirror_mode": {
    "name": "ipython",
    "version": 3
   },
   "file_extension": ".py",
   "mimetype": "text/x-python",
   "name": "python",
   "nbconvert_exporter": "python",
   "pygments_lexer": "ipython3",
   "version": "3.6.10"
  }
 },
 "nbformat": 4,
 "nbformat_minor": 2
}
