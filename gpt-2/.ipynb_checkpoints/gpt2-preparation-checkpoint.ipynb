{
 "cells": [
  {
   "cell_type": "code",
   "execution_count": 1,
   "metadata": {},
   "outputs": [],
   "source": [
    "import csv"
   ]
  },
  {
   "cell_type": "code",
   "execution_count": 2,
   "metadata": {},
   "outputs": [],
   "source": [
    "with open(\"../data/scraped_yelp_reviews_ed.csv\", \"r\") as file:\n",
    "    with open(\"../data/output_gpt.txt\", \"w\") as out:\n",
    "        csv_reader = csv.reader(file, delimiter=',')\n",
    "        next(csv_reader)\n",
    "        for row in csv_reader:\n",
    "            rating = row[1].split(\" \")[0]\n",
    "            biz_name = row[2].lower()\n",
    "            enc = \"_\".join(biz_name.split(\" \"))\n",
    "            processed = \"<s>\" + enc + \": \" + row[3].replace(\"\\n\", \" \").lower() + \"</s>\"\n",
    "            out.write(processed + \"\\n\")"
   ]
  },
  {
   "cell_type": "code",
   "execution_count": 3,
   "metadata": {},
   "outputs": [],
   "source": [
    "import pandas as pd"
   ]
  },
  {
   "cell_type": "code",
   "execution_count": 4,
   "metadata": {},
   "outputs": [],
   "source": [
    "df = pd.read_csv(\"../data/scraped_yelp_reviews_ed.csv\")"
   ]
  },
  {
   "cell_type": "code",
   "execution_count": 5,
   "metadata": {},
   "outputs": [
    {
     "data": {
      "text/html": [
       "<div>\n",
       "<style scoped>\n",
       "    .dataframe tbody tr th:only-of-type {\n",
       "        vertical-align: middle;\n",
       "    }\n",
       "\n",
       "    .dataframe tbody tr th {\n",
       "        vertical-align: top;\n",
       "    }\n",
       "\n",
       "    .dataframe thead th {\n",
       "        text-align: right;\n",
       "    }\n",
       "</style>\n",
       "<table border=\"1\" class=\"dataframe\">\n",
       "  <thead>\n",
       "    <tr style=\"text-align: right;\">\n",
       "      <th></th>\n",
       "      <th>Unnamed: 0</th>\n",
       "      <th>rating</th>\n",
       "      <th>biz_name</th>\n",
       "      <th>text</th>\n",
       "      <th>useful</th>\n",
       "      <th>funny</th>\n",
       "      <th>cool</th>\n",
       "    </tr>\n",
       "  </thead>\n",
       "  <tbody>\n",
       "    <tr>\n",
       "      <th>0</th>\n",
       "      <td>0</td>\n",
       "      <td>5.0 star rating</td>\n",
       "      <td>Gozu</td>\n",
       "      <td>Wow, Jamie W. actually surprised me for our an...</td>\n",
       "      <td>22.0</td>\n",
       "      <td>13.0</td>\n",
       "      <td>15.0</td>\n",
       "    </tr>\n",
       "    <tr>\n",
       "      <th>1</th>\n",
       "      <td>1</td>\n",
       "      <td>5.0 star rating</td>\n",
       "      <td>Kitchen Story</td>\n",
       "      <td>Seriously don't know why it took my this long ...</td>\n",
       "      <td>26.0</td>\n",
       "      <td>16.0</td>\n",
       "      <td>22.0</td>\n",
       "    </tr>\n",
       "    <tr>\n",
       "      <th>2</th>\n",
       "      <td>2</td>\n",
       "      <td>5.0 star rating</td>\n",
       "      <td>Hook Fish</td>\n",
       "      <td>Holy fishcakes! Came and had myself a blackene...</td>\n",
       "      <td>30.0</td>\n",
       "      <td>15.0</td>\n",
       "      <td>25.0</td>\n",
       "    </tr>\n",
       "    <tr>\n",
       "      <th>3</th>\n",
       "      <td>3</td>\n",
       "      <td>5.0 star rating</td>\n",
       "      <td>Little Skillet</td>\n",
       "      <td>After Farmer Brown closed, a small part of my ...</td>\n",
       "      <td>61.0</td>\n",
       "      <td>39.0</td>\n",
       "      <td>55.0</td>\n",
       "    </tr>\n",
       "    <tr>\n",
       "      <th>4</th>\n",
       "      <td>4</td>\n",
       "      <td>5.0 star rating</td>\n",
       "      <td>Bamboo Asia FIDI</td>\n",
       "      <td>Taste of Japan goes through my mind when I pas...</td>\n",
       "      <td>5.0</td>\n",
       "      <td>5.0</td>\n",
       "      <td>5.0</td>\n",
       "    </tr>\n",
       "  </tbody>\n",
       "</table>\n",
       "</div>"
      ],
      "text/plain": [
       "  Unnamed: 0           rating          biz_name  \\\n",
       "0          0  5.0 star rating              Gozu   \n",
       "1          1  5.0 star rating     Kitchen Story   \n",
       "2          2  5.0 star rating         Hook Fish   \n",
       "3          3  5.0 star rating    Little Skillet   \n",
       "4          4  5.0 star rating  Bamboo Asia FIDI   \n",
       "\n",
       "                                                text  useful  funny  cool  \n",
       "0  Wow, Jamie W. actually surprised me for our an...    22.0   13.0  15.0  \n",
       "1  Seriously don't know why it took my this long ...    26.0   16.0  22.0  \n",
       "2  Holy fishcakes! Came and had myself a blackene...    30.0   15.0  25.0  \n",
       "3  After Farmer Brown closed, a small part of my ...    61.0   39.0  55.0  \n",
       "4  Taste of Japan goes through my mind when I pas...     5.0    5.0   5.0  "
      ]
     },
     "execution_count": 5,
     "metadata": {},
     "output_type": "execute_result"
    }
   ],
   "source": [
    "df.head()"
   ]
  },
  {
   "cell_type": "code",
   "execution_count": 6,
   "metadata": {},
   "outputs": [],
   "source": [
    "import matplotlib.pyplot as plt"
   ]
  },
  {
   "cell_type": "code",
   "execution_count": 7,
   "metadata": {},
   "outputs": [
    {
     "data": {
      "text/plain": [
       "Gary Danko                                                     23\n",
       "House Of Prime Rib                                             19\n",
       "Brenda’s French Soul Food                                      18\n",
       "Ike’s Place - CLOSED                                           14\n",
       "State Bird Provisions                                          14\n",
       "Boba Guys                                                      13\n",
       "Wayfare Tavern                                                 13\n",
       "Kokkari Estiatorio                                             12\n",
       "Burma Superstar                                                12\n",
       "Humphry Slocombe Ice Cream                                     12\n",
       "Nopa                                                           12\n",
       "Bi-Rite Creamery                                               12\n",
       "Philz Coffee - Temporarily Closed                              11\n",
       "The Front Porch                                                11\n",
       "Butter                                                         10\n",
       "Alexander’s Steakhouse                                         10\n",
       "Izakaya Sozai                                                  10\n",
       "L’Ardoise Bistro                                               10\n",
       "Saigon Sandwich                                                 9\n",
       "El Farolito                                                     9\n",
       "Foreign Cinema                                                  9\n",
       "The Italian Homemade Company                                    9\n",
       "Cha Cha Cha                                                     9\n",
       "Rooster & Rice                                                  9\n",
       "La Folie                                                        9\n",
       "Urban Putt                                                      9\n",
       "The House                                                       9\n",
       "Spruce                                                          9\n",
       "Mensho Tokyo                                                    8\n",
       "Liholiho Yacht Club                                             8\n",
       "                                                               ..\n",
       "Elephant Sushi                                                  1\n",
       "Baladie Gourmet Cafe                                            1\n",
       "The Golden Donut                                                1\n",
       "Purple Kow                                                      1\n",
       "Noe Valley Pizza - CLOSED                                       1\n",
       "U-Sushi - CLOSED                                                1\n",
       "Subpar Miniature Golf                                           1\n",
       "Goorin Bros                                                     1\n",
       "Specialty’s Café & Bakery                                       1\n",
       "Katea - CLOSED                                                  1\n",
       "Bodega Bistro - CLOSED                                          1\n",
       "Butler’s Uniforms & Casual Wear - CLOSED                        1\n",
       "Urbun Burger - CLOSED                                           1\n",
       "Her Majesty’s Secret Beekeeper - CLOSED                         1\n",
       "Wheel House                                                     1\n",
       "Irma’s Pampanga Restaurant - CLOSED                             1\n",
       "Pho Luen Fat                                                    1\n",
       "lucy Activewear                                                 1\n",
       "Eight Immortals Restaurant                                      1\n",
       "Zuckerberg San Francisco General Hospital and Trauma Center     1\n",
       "Pizzelle di North Beach                                         1\n",
       "Cafe Coco                                                       1\n",
       "New Century Theater                                             1\n",
       "Aube Creamery - CLOSED                                          1\n",
       "Gott’s Roadside                                                 1\n",
       "Pagan Restaurant                                                1\n",
       "Sneaky Tiki - CLOSED                                            1\n",
       "The Dark Room Theater, LLC - CLOSED                             1\n",
       "Pakwan Restaurant - 16th Street                                 1\n",
       "El Rincón Yucateco                                              1\n",
       "Name: biz_name, Length: 2891, dtype: int64"
      ]
     },
     "execution_count": 7,
     "metadata": {},
     "output_type": "execute_result"
    }
   ],
   "source": [
    "df[\"biz_name\"].value_counts()"
   ]
  },
  {
   "cell_type": "code",
   "execution_count": null,
   "metadata": {},
   "outputs": [],
   "source": []
  }
 ],
 "metadata": {
  "kernelspec": {
   "display_name": "Python 3",
   "language": "python",
   "name": "python3"
  },
  "language_info": {
   "codemirror_mode": {
    "name": "ipython",
    "version": 3
   },
   "file_extension": ".py",
   "mimetype": "text/x-python",
   "name": "python",
   "nbconvert_exporter": "python",
   "pygments_lexer": "ipython3",
   "version": "3.6.10"
  }
 },
 "nbformat": 4,
 "nbformat_minor": 2
}
