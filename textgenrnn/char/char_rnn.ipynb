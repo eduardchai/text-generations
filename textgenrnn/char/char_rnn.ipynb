{
 "cells": [
  {
   "cell_type": "code",
   "execution_count": 1,
   "metadata": {},
   "outputs": [
    {
     "name": "stdout",
     "output_type": "stream",
     "text": [
      "Processing /home/jovyan/.cache/pip/wheels/dc/1e/39/2ba6727a70902a872b0c391fd2d5a72a111a5295e29c0f0bcd/textgenrnn-2.0.0-py3-none-any.whl\n",
      "Collecting keras\n",
      "  Using cached Keras-2.3.1-py2.py3-none-any.whl (377 kB)\n",
      "Collecting tensorflow>=2.1.0\n",
      "  Using cached tensorflow-2.1.0-cp36-cp36m-manylinux2010_x86_64.whl (421.8 MB)\n",
      "Collecting h5py\n",
      "  Using cached h5py-2.10.0-cp36-cp36m-manylinux1_x86_64.whl (2.9 MB)\n",
      "Requirement already satisfied, skipping upgrade: tqdm in /home/jovyan/.local/lib/python3.6/site-packages (from textgenrnn) (4.41.1)\n",
      "Requirement already satisfied, skipping upgrade: scikit-learn in /opt/conda/lib/python3.6/site-packages (from textgenrnn) (0.20.2)\n",
      "Collecting keras-applications>=1.0.6\n",
      "  Using cached Keras_Applications-1.0.8-py3-none-any.whl (50 kB)\n",
      "Requirement already satisfied, skipping upgrade: numpy>=1.9.1 in /opt/conda/lib/python3.6/site-packages (from keras->textgenrnn) (1.15.4)\n",
      "Requirement already satisfied, skipping upgrade: scipy>=0.14 in /opt/conda/lib/python3.6/site-packages (from keras->textgenrnn) (1.1.0)\n",
      "Collecting keras-preprocessing>=1.0.5\n",
      "  Using cached Keras_Preprocessing-1.1.0-py2.py3-none-any.whl (41 kB)\n",
      "Requirement already satisfied, skipping upgrade: six>=1.9.0 in /opt/conda/lib/python3.6/site-packages (from keras->textgenrnn) (1.14.0)\n",
      "Processing /home/jovyan/.cache/pip/wheels/e5/9d/ad/2ee53cf262cba1ffd8afe1487eef788ea3f260b7e6232a80fc/PyYAML-5.3.1-cp36-cp36m-linux_x86_64.whl\n",
      "Collecting tensorboard<2.2.0,>=2.1.0\n",
      "  Using cached tensorboard-2.1.1-py3-none-any.whl (3.8 MB)\n",
      "Collecting tensorflow-estimator<2.2.0,>=2.1.0rc0\n",
      "  Using cached tensorflow_estimator-2.1.0-py2.py3-none-any.whl (448 kB)\n",
      "Processing /home/jovyan/.cache/pip/wheels/7c/06/54/bc84598ba1daf8f970247f550b175aaaee85f68b4b0c5ab2c6/termcolor-1.1.0-cp36-none-any.whl\n",
      "Processing /home/jovyan/.cache/pip/wheels/32/42/7f/23cae9ff6ef66798d00dc5d659088e57dbba01566f6c60db63/wrapt-1.12.1-cp36-cp36m-linux_x86_64.whl\n",
      "Requirement already satisfied, skipping upgrade: grpcio>=1.8.6 in /home/jovyan/.local/lib/python3.6/site-packages (from tensorflow>=2.1.0->textgenrnn) (1.27.2)\n",
      "Requirement already satisfied, skipping upgrade: wheel>=0.26; python_version >= \"3\" in /opt/conda/lib/python3.6/site-packages (from tensorflow>=2.1.0->textgenrnn) (0.34.2)\n",
      "Collecting astor>=0.6.0\n",
      "  Using cached astor-0.8.1-py2.py3-none-any.whl (27 kB)\n",
      "Collecting opt-einsum>=2.3.2\n",
      "  Using cached opt_einsum-3.2.0-py3-none-any.whl (63 kB)\n",
      "Processing /home/jovyan/.cache/pip/wheels/5c/2e/7e/a1d4d4fcebe6c381f378ce7743a3ced3699feb89bcfbdadadd/gast-0.2.2-cp36-none-any.whl\n",
      "Requirement already satisfied, skipping upgrade: absl-py>=0.7.0 in /home/jovyan/.local/lib/python3.6/site-packages (from tensorflow>=2.1.0->textgenrnn) (0.9.0)\n",
      "Collecting google-pasta>=0.1.6\n",
      "  Using cached google_pasta-0.2.0-py3-none-any.whl (57 kB)\n",
      "Requirement already satisfied, skipping upgrade: protobuf>=3.8.0 in /opt/conda/lib/python3.6/site-packages (from tensorflow>=2.1.0->textgenrnn) (3.11.3)\n",
      "Requirement already satisfied, skipping upgrade: werkzeug>=0.11.15 in /home/jovyan/.local/lib/python3.6/site-packages (from tensorboard<2.2.0,>=2.1.0->tensorflow>=2.1.0->textgenrnn) (1.0.0)\n",
      "Requirement already satisfied, skipping upgrade: google-auth<2,>=1.6.3 in /opt/conda/lib/python3.6/site-packages (from tensorboard<2.2.0,>=2.1.0->tensorflow>=2.1.0->textgenrnn) (1.11.3)\n",
      "Requirement already satisfied, skipping upgrade: google-auth-oauthlib<0.5,>=0.4.1 in /home/jovyan/.local/lib/python3.6/site-packages (from tensorboard<2.2.0,>=2.1.0->tensorflow>=2.1.0->textgenrnn) (0.4.1)\n",
      "Requirement already satisfied, skipping upgrade: markdown>=2.6.8 in /home/jovyan/.local/lib/python3.6/site-packages (from tensorboard<2.2.0,>=2.1.0->tensorflow>=2.1.0->textgenrnn) (3.2.1)\n",
      "Requirement already satisfied, skipping upgrade: setuptools>=41.0.0 in /opt/conda/lib/python3.6/site-packages (from tensorboard<2.2.0,>=2.1.0->tensorflow>=2.1.0->textgenrnn) (46.0.0.post20200311)\n",
      "Requirement already satisfied, skipping upgrade: requests<3,>=2.21.0 in /opt/conda/lib/python3.6/site-packages (from tensorboard<2.2.0,>=2.1.0->tensorflow>=2.1.0->textgenrnn) (2.23.0)\n",
      "Requirement already satisfied, skipping upgrade: rsa<4.1,>=3.1.4 in /opt/conda/lib/python3.6/site-packages (from google-auth<2,>=1.6.3->tensorboard<2.2.0,>=2.1.0->tensorflow>=2.1.0->textgenrnn) (4.0)\n",
      "Requirement already satisfied, skipping upgrade: cachetools<5.0,>=2.0.0 in /opt/conda/lib/python3.6/site-packages (from google-auth<2,>=1.6.3->tensorboard<2.2.0,>=2.1.0->tensorflow>=2.1.0->textgenrnn) (4.0.0)\n",
      "Requirement already satisfied, skipping upgrade: pyasn1-modules>=0.2.1 in /opt/conda/lib/python3.6/site-packages (from google-auth<2,>=1.6.3->tensorboard<2.2.0,>=2.1.0->tensorflow>=2.1.0->textgenrnn) (0.2.8)\n",
      "Requirement already satisfied, skipping upgrade: requests-oauthlib>=0.7.0 in /home/jovyan/.local/lib/python3.6/site-packages (from google-auth-oauthlib<0.5,>=0.4.1->tensorboard<2.2.0,>=2.1.0->tensorflow>=2.1.0->textgenrnn) (1.3.0)\n",
      "Requirement already satisfied, skipping upgrade: urllib3!=1.25.0,!=1.25.1,<1.26,>=1.21.1 in /opt/conda/lib/python3.6/site-packages (from requests<3,>=2.21.0->tensorboard<2.2.0,>=2.1.0->tensorflow>=2.1.0->textgenrnn) (1.25.7)\n",
      "Requirement already satisfied, skipping upgrade: chardet<4,>=3.0.2 in /opt/conda/lib/python3.6/site-packages (from requests<3,>=2.21.0->tensorboard<2.2.0,>=2.1.0->tensorflow>=2.1.0->textgenrnn) (3.0.4)\n",
      "Requirement already satisfied, skipping upgrade: idna<3,>=2.5 in /opt/conda/lib/python3.6/site-packages (from requests<3,>=2.21.0->tensorboard<2.2.0,>=2.1.0->tensorflow>=2.1.0->textgenrnn) (2.9)\n",
      "Requirement already satisfied, skipping upgrade: certifi>=2017.4.17 in /opt/conda/lib/python3.6/site-packages (from requests<3,>=2.21.0->tensorboard<2.2.0,>=2.1.0->tensorflow>=2.1.0->textgenrnn) (2019.11.28)\n",
      "Requirement already satisfied, skipping upgrade: pyasn1>=0.1.3 in /opt/conda/lib/python3.6/site-packages (from rsa<4.1,>=3.1.4->google-auth<2,>=1.6.3->tensorboard<2.2.0,>=2.1.0->tensorflow>=2.1.0->textgenrnn) (0.4.8)\n",
      "Requirement already satisfied, skipping upgrade: oauthlib>=3.0.0 in /home/jovyan/.local/lib/python3.6/site-packages (from requests-oauthlib>=0.7.0->google-auth-oauthlib<0.5,>=0.4.1->tensorboard<2.2.0,>=2.1.0->tensorflow>=2.1.0->textgenrnn) (3.1.0)\n",
      "\u001b[31mERROR: tensorflow 2.1.0 has requirement numpy<2.0,>=1.16.0, but you'll have numpy 1.15.4 which is incompatible.\u001b[0m\n",
      "\u001b[31mERROR: tensorflow 2.1.0 has requirement scipy==1.4.1; python_version >= \"3\", but you'll have scipy 1.1.0 which is incompatible.\u001b[0m\n",
      "Installing collected packages: h5py, keras-applications, keras-preprocessing, pyyaml, keras, tensorboard, tensorflow-estimator, termcolor, wrapt, astor, opt-einsum, gast, google-pasta, tensorflow, textgenrnn\n",
      "Successfully installed astor-0.8.1 gast-0.2.2 google-pasta-0.2.0 h5py-2.10.0 keras-2.3.1 keras-applications-1.0.8 keras-preprocessing-1.1.0 opt-einsum-3.2.0 pyyaml-5.3.1 tensorboard-2.1.1 tensorflow-2.1.0 tensorflow-estimator-2.1.0 termcolor-1.1.0 textgenrnn-2.0.0 wrapt-1.12.1\n"
     ]
    }
   ],
   "source": [
    "!pip install -U textgenrnn"
   ]
  },
  {
   "cell_type": "code",
   "execution_count": 2,
   "metadata": {},
   "outputs": [
    {
     "name": "stderr",
     "output_type": "stream",
     "text": [
      "Using TensorFlow backend.\n"
     ]
    }
   ],
   "source": [
    "from textgenrnn import textgenrnn"
   ]
  },
  {
   "cell_type": "markdown",
   "metadata": {},
   "source": [
    "## Train new model - char embedding"
   ]
  },
  {
   "cell_type": "code",
   "execution_count": 3,
   "metadata": {},
   "outputs": [],
   "source": [
    "textgen_char = textgenrnn(name=\"char_level_gary_danko_2\")"
   ]
  },
  {
   "cell_type": "code",
   "execution_count": 5,
   "metadata": {},
   "outputs": [
    {
     "name": "stdout",
     "output_type": "stream",
     "text": [
      "10 texts collected.\n",
      "Training new model w/ 2-layer, 128-cell Bidirectional LSTMs\n",
      "Training on 23,450 character sequences.\n",
      "WARNING:tensorflow:sample_weight modes were coerced from\n",
      "  ...\n",
      "    to  \n",
      "  ['...']\n",
      "Train for 183 steps\n",
      "Epoch 1/20\n",
      "183/183 [==============================] - 16s 88ms/step - loss: 2.7091\n",
      "Epoch 2/20\n",
      "183/183 [==============================] - 10s 55ms/step - loss: 2.0893\n",
      "Epoch 3/20\n",
      "183/183 [==============================] - 10s 56ms/step - loss: 1.7863\n",
      "Epoch 4/20\n",
      "183/183 [==============================] - 10s 55ms/step - loss: 1.5474\n",
      "Epoch 5/20\n",
      "183/183 [==============================] - 10s 56ms/step - loss: 1.3630\n",
      "Epoch 6/20\n",
      "183/183 [==============================] - 10s 55ms/step - loss: 1.2162\n",
      "Epoch 7/20\n",
      "183/183 [==============================] - 10s 55ms/step - loss: 1.0696\n",
      "Epoch 8/20\n",
      "183/183 [==============================] - 10s 55ms/step - loss: 0.9400\n",
      "Epoch 9/20\n",
      "183/183 [==============================] - 10s 56ms/step - loss: 0.8155\n",
      "Epoch 10/20\n",
      "182/183 [============================>.] - ETA: 0s - loss: 0.6942####################\n",
      "Temperature: 0.2\n",
      "####################\n",
      "<s>gary_danko: it ' s mostly sauce is a finishing to the mirroragon )  .  i ' m stray on the middle .  the strawberry sorbet .  the strawberry sorbet .  the strawberry sorbet .  the strawberry sorbet inder !  i was strawberry sauce is on the middle .  the strawberry sorbet and this was cooked beaut\n",
      "\n",
      "<s>gary_danko: i literally melts in your very dany i had the service is excellent service is excellent service is a little triats .  the strawberry sorbet )  .  i ' m stray on the middle .  the strawberry sorbet .  the strawberry sorbet .  the strawberry sorbet with duck breast  ( and strawberry sa\n",
      "\n",
      "<s>gary_danko: i literally melts in your very dany i had the portion .  the strawberry sorbet .  the strawberry sorbet .  they ' s an experience .  the strawberry sorbet .  the strawberry sorbet was the service is a little to try the samiss .  so from napa .  it was cooked beautifully ,  and seafoo\n",
      "\n",
      "####################\n",
      "Temperature: 0.5\n",
      "####################\n",
      "<s>gary_danko: i ' ve street is the nickel restaurs ,  scallops - persentation .  the strawberry sorbet and tarragon the the decome than i should but i thought gary danko ' s that sho dow not order again .  the crunchy i would not decision making process into to be of the too !  i thought the dish \n",
      "\n",
      "<s>gary_danko: i literally melts in the middle .  thank you get to the middle ,  but it was cooked beants and so many dishes to be back in you who following to the middle !  the strawberry sorbets and this dish .  thai card to get it .  the strawberry sorbet .  the lobster was crusted to like the s\n",
      "\n",
      "<s>gary_danko: i literally melts in your bout delicious .  the strawberry souffle with strawberry sauce is which is check ,  and this was the still of thinking about this .  seared foie gras well but not to be with dinner .  the service is excellent sere masias on the menu is .  seared foie gras wi\n",
      "\n",
      "####################\n",
      "Temperature: 1.0\n",
      "####################\n",
      "<s>gary_danko: whis happy life . step 6 :  perfect so would not it down ! 1 )  like eatimaded to not .  i know wher i tried beef  ( eapily . </s>\n",
      "\n",
      "<s>gary_danko: me lavior up this dish . so i ' m very friend ordered this .  so your text next to the cavilige that you late my reviews in the 4-course is a with to kngo ,  early ,  dack many delicious for decad .  this would ' s gary danko ' s menou butter is bejows about the time as weith sauce a\n",
      "\n",
      "<s>gary_danko: it was coviar and blordelitions .  i recommended to be mind this !  step 1 3 :  shrimp arazing ! </s>\n",
      "\n",
      "183/183 [==============================] - 90s 493ms/step - loss: 0.6949\n",
      "Epoch 11/20\n",
      "183/183 [==============================] - 10s 56ms/step - loss: 0.5851\n",
      "Epoch 12/20\n",
      "183/183 [==============================] - 10s 55ms/step - loss: 0.4861\n",
      "Epoch 13/20\n",
      "183/183 [==============================] - 10s 56ms/step - loss: 0.3953\n",
      "Epoch 14/20\n",
      "183/183 [==============================] - 10s 55ms/step - loss: 0.3208\n",
      "Epoch 15/20\n",
      "183/183 [==============================] - 10s 55ms/step - loss: 0.2505\n",
      "Epoch 16/20\n",
      "183/183 [==============================] - 10s 55ms/step - loss: 0.1949\n",
      "Epoch 17/20\n",
      "183/183 [==============================] - 10s 55ms/step - loss: 0.1508\n",
      "Epoch 18/20\n",
      "183/183 [==============================] - 10s 55ms/step - loss: 0.1184\n",
      "Epoch 19/20\n",
      "183/183 [==============================] - 10s 55ms/step - loss: 0.0950\n",
      "Epoch 20/20\n",
      "182/183 [============================>.] - ETA: 0s - loss: 0.0791####################\n",
      "Temperature: 0.2\n",
      "####################\n",
      "<s>gary_danko: what can i add to a place that has almost 5 thousand reviews  ?  an essay that ' s what  !  give my profile a  \" follow \"  if you like my reviews and/or lists . in the nickel n dime east bay i was born and raisedon the san fran streets is now where i spend most of my dayschillin '  o\n",
      "\n",
      "<s>gary_danko: i literally don ' t know how to start this review because i was so ecsatic with my experience and the food here !  my boyfriend took me to gary danko for our 3-year anniversary  ( lucky me !  )  .  i had a fenow dessert was the cookies . service was phenomenal ,  and the portion size\n",
      "\n",
      "<s>gary_danko: i literally don ' t know how to start this review because i was so ecsatic with my experience and the food here !  my boyfriend took me to gary danko for our 3-year anniversary  ( lucky me !  )  .  he made our dinner reservations for december 1st you would need to call gary danko oct\n",
      "\n",
      "####################\n",
      "Temperature: 0.5\n",
      "####################\n",
      "<s>gary_danko: i literally don ' t mind ,  i enjoy a formal restaurant in this era of over the top part of this is very tasty ,  but it was perfect .  because it was seared ,  it melted in my mouth !  5 conse  ( with all my heart )  to be back anytime soon ,  but i hope  ( with all my heart )  to b\n",
      "\n",
      "<s>gary_danko: i literally don ' t know how to start this review because i was so ecsatic with my experience and the food here !  my boyfriend took me to gary danko for our 3-year anniversary  ( lucky me !  )  .  i also a lovely cocktail at the bar . )  .  my friend and i both ordered this .  cooke\n",
      "\n",
      "<s>gary_danko: what can i add to a place that has almost 4 years and the sauce and stilton butter are nice touches but just was not a fan of this dish .  would not order again . after dinner : i requested a lyft and beat ,  it ' s truly an amazing experience .  until next time ! </s>\n",
      "\n",
      "####################\n",
      "Temperature: 1.0\n",
      "####################\n",
      "<s>gary_danko: what have you done to me gary  .  i had the following :  seared foie gras with caramelized onions and apples :  absolutely amazing !  my first time having foie .  i kniced to get the 5 course .  rb whe sauce is a loved nemt but not just for decel up you like my reviews and/or list  (\n",
      "\n",
      "<s>gary_danko: i literally mushrooms )  .  my favorite dish .  risotto before ,  so ,  from one friend crack salads sime is the sauce after i finished !  so good . - roast maine lobster with potato puree ,  mushrooms ,  edamame and that gd it was a 2017 rose wine from napa ,  i can ' t finish it al\n",
      "\n",
      "<s>gary_danko: i lo' sturasin had the gdir .  oh the annoying ,  come-by-when-you ' reastey little freebies was the cheese course .  the glazed oyster tasted like heaven . the food was awould .  it diste  ( but not absolutely dinner ,  my hobst in a wee serve was b/corse .  unciteit and my plkoply \n",
      "\n",
      "183/183 [==============================] - 98s 537ms/step - loss: 0.0791\n"
     ]
    }
   ],
   "source": [
    "textgen_char.reset()\n",
    "textgen_char.train_from_file('../../data/clean_reviews.txt',\n",
    "                        new_model=True,\n",
    "                        rnn_bidirectional=True,\n",
    "                        rnn_size=128,\n",
    "                        rnn_layers=2,\n",
    "                        dim_embeddings=300,\n",
    "                        num_epochs=20,\n",
    "                        max_words=1000,\n",
    "                        gen_epochs=10,\n",
    "                        header=False)"
   ]
  },
  {
   "cell_type": "code",
   "execution_count": 6,
   "metadata": {},
   "outputs": [
    {
     "name": "stdout",
     "output_type": "stream",
     "text": [
      "Model: \"model_2\"\n",
      "__________________________________________________________________________________________________\n",
      "Layer (type)                    Output Shape         Param #     Connected to                     \n",
      "==================================================================================================\n",
      "input (InputLayer)              [(None, 40)]         0                                            \n",
      "__________________________________________________________________________________________________\n",
      "embedding (Embedding)           (None, 40, 300)      18600       input[0][0]                      \n",
      "__________________________________________________________________________________________________\n",
      "rnn_1 (Bidirectional)           (None, 40, 256)      439296      embedding[0][0]                  \n",
      "__________________________________________________________________________________________________\n",
      "rnn_2 (Bidirectional)           (None, 40, 256)      394240      rnn_1[0][0]                      \n",
      "__________________________________________________________________________________________________\n",
      "rnn_concat (Concatenate)        (None, 40, 812)      0           embedding[0][0]                  \n",
      "                                                                 rnn_1[0][0]                      \n",
      "                                                                 rnn_2[0][0]                      \n",
      "__________________________________________________________________________________________________\n",
      "attention (AttentionWeightedAve (None, 812)          812         rnn_concat[0][0]                 \n",
      "__________________________________________________________________________________________________\n",
      "output (Dense)                  (None, 62)           50406       attention[0][0]                  \n",
      "==================================================================================================\n",
      "Total params: 903,354\n",
      "Trainable params: 903,354\n",
      "Non-trainable params: 0\n",
      "__________________________________________________________________________________________________\n"
     ]
    }
   ],
   "source": [
    "textgen_char.model.summary()"
   ]
  },
  {
   "cell_type": "code",
   "execution_count": 9,
   "metadata": {},
   "outputs": [
    {
     "name": "stdout",
     "output_type": "stream",
     "text": [
      "####################\n",
      "Temperature: 0.2\n",
      "####################\n",
      "<s>gary_danko: i literally don ' t know how to start this review because i was so ecsatic with my experience and the food here !  my boyfriend took me to gary danko for our 3-year anniversary  ( lucky me !  )  .  he made our dinner reservations for december 1st you would need to call gary danko oct\n",
      "\n",
      "<s>gary_danko: i love the concept of gary danko ' s tasting menu .  you choose 3 ,  4 ,  or 5 courses  ( priced at $83 ,  $101 ,  and $119 )  and from there ,  you can choose whatever combination of appetizers ,  entrees ,  and cheese .  you can do that . rose wine - they only had one rose wine by \n",
      "\n",
      "<s>gary_danko: i literally don ' t finish .  it was cooked nicely .  if you like duck ,  you ' d probably appreciate this dish more than i would . strawberry souffle with strawberry sauce and strawberry sorbet :  i loved the beef but the real star here was the potato gnocchi .  it was pillowy soft \n",
      "\n",
      "####################\n",
      "Temperature: 0.5\n",
      "####################\n",
      "<s>gary_danko: what can i add to a place that has henorst .  and i had a bite ,  and oh boy ,  i have not too !  i ate a large portion of this back ! </s>\n",
      "\n",
      "<s>gary_danko: i love the concept of gary danko ' s tasting menu .  i don ' t expect to be back anytime soon ,  but i hope  ( with all my heart )  to be back eventually ! </s>\n",
      "\n",
      "<s>gary_danko: i literally don ' t know how to start this review because i was so ecsatic with my experience and the food here !  my boyfriend took me to gary danko for our 3-year anniversary  ( lucky me !  )  .  and it was cooked nicely .  if you like duck ,  you ' d probably appreciate this dish \n",
      "\n",
      "####################\n",
      "Temperature: 1.0\n",
      "####################\n",
      "<s>gary_danko: honestly ,  with close to be back hereat and dungeness crab salad )  darn !  but my friend ordered it ,  and it was just as good have sorbet )  .  me-this one of the sweret so francisco fine dining at it ' s more than good food  .  it was pillowy soft ,  usually & i would neight reco\n",
      "\n",
      "<s>gary_danko: floush .  it was cooked and precomal menu to has the glorious food .  cooked persentation and are experience .  undin ' t finish .  it helped the decssert was enoughed ,  my fish ,  and delicious .  you really must try it for yourself .  wife got  : 1 )  at goolion on the meat .  the\n",
      "\n",
      "<s>gary_danko: i love set because the 4-course menu instead of the beef .  because it was chose 5 courses ,  to san tung for you outside . 3-- roasted time - and huserbatichedrom ,  perfectly seared with a nice caramelization and my eliply well with the oysters and the candied paelted puree and str\n",
      "\n"
     ]
    }
   ],
   "source": [
    "textgen_char.generate_samples(prefix=\"<s>gary_danko\", max_gen_length=300)"
   ]
  },
  {
   "cell_type": "markdown",
   "metadata": {},
   "source": [
    "### Tranfer learning"
   ]
  },
  {
   "cell_type": "code",
   "execution_count": 13,
   "metadata": {},
   "outputs": [],
   "source": [
    "textgen_char_transfer = textgenrnn(name=\"char_level_gary_danko_transfer\")"
   ]
  },
  {
   "cell_type": "code",
   "execution_count": 14,
   "metadata": {},
   "outputs": [
    {
     "name": "stdout",
     "output_type": "stream",
     "text": [
      "Model: \"model_1\"\n",
      "__________________________________________________________________________________________________\n",
      "Layer (type)                    Output Shape         Param #     Connected to                     \n",
      "==================================================================================================\n",
      "input (InputLayer)              [(None, 40)]         0                                            \n",
      "__________________________________________________________________________________________________\n",
      "embedding (Embedding)           (None, 40, 100)      46500       input[0][0]                      \n",
      "__________________________________________________________________________________________________\n",
      "rnn_1 (LSTM)                    (None, 40, 128)      117248      embedding[0][0]                  \n",
      "__________________________________________________________________________________________________\n",
      "rnn_2 (LSTM)                    (None, 40, 128)      131584      rnn_1[0][0]                      \n",
      "__________________________________________________________________________________________________\n",
      "rnn_concat (Concatenate)        (None, 40, 356)      0           embedding[0][0]                  \n",
      "                                                                 rnn_1[0][0]                      \n",
      "                                                                 rnn_2[0][0]                      \n",
      "__________________________________________________________________________________________________\n",
      "attention (AttentionWeightedAve (None, 356)          356         rnn_concat[0][0]                 \n",
      "__________________________________________________________________________________________________\n",
      "output (Dense)                  (None, 465)          166005      attention[0][0]                  \n",
      "==================================================================================================\n",
      "Total params: 461,693\n",
      "Trainable params: 461,693\n",
      "Non-trainable params: 0\n",
      "__________________________________________________________________________________________________\n"
     ]
    }
   ],
   "source": [
    "textgen_char_transfer.model.summary()"
   ]
  },
  {
   "cell_type": "code",
   "execution_count": 7,
   "metadata": {},
   "outputs": [
    {
     "name": "stdout",
     "output_type": "stream",
     "text": [
      "10 texts collected.\n",
      "Training on 23,380 character sequences.\n",
      "WARNING:tensorflow:sample_weight modes were coerced from\n",
      "  ...\n",
      "    to  \n",
      "  ['...']\n",
      "Train for 182 steps\n",
      "Epoch 1/20\n",
      "182/182 [==============================] - 70s 383ms/step - loss: 2.3542\n",
      "Epoch 2/20\n",
      "182/182 [==============================] - 66s 362ms/step - loss: 2.0613\n",
      "Epoch 3/20\n",
      "182/182 [==============================] - 66s 363ms/step - loss: 1.8401\n",
      "Epoch 4/20\n",
      "182/182 [==============================] - 66s 360ms/step - loss: 1.7241\n",
      "Epoch 5/20\n",
      "182/182 [==============================] - 66s 360ms/step - loss: 1.6384\n",
      "Epoch 6/20\n",
      "182/182 [==============================] - 66s 363ms/step - loss: 1.5679\n",
      "Epoch 7/20\n",
      "182/182 [==============================] - 66s 361ms/step - loss: 1.5437\n",
      "Epoch 8/20\n",
      "182/182 [==============================] - 66s 362ms/step - loss: 1.4622\n",
      "Epoch 9/20\n",
      "182/182 [==============================] - 66s 361ms/step - loss: 1.4013\n",
      "Epoch 10/20\n",
      "181/182 [============================>.] - ETA: 0s - loss: 1.3480####################\n",
      "Temperature: 0.2\n",
      "####################\n",
      "gary_danko:  i the so the can that the service that the service was this and i had the course a first to the seafood the so the can that the service was the canting mushrooms .  the sauce and the pre softer was the strawberry sour .  this was this and so get this .  i '  stam it and seafood the me \n",
      "\n",
      "gary_danko: i was this and a braution the dessert .  the so the cantion ,  and so get the course .  i decision my bey ,  it was the mean .  the strawberry souffle so the course a so the strawberry sour .  this mushrooms .  i dessert and so much so the can the service this was that the can that the \n",
      "\n",
      "gary_danko: i '  stary danko this and a seared the caringings that the so the strawberry seafood of the but the so the can so mushrooms .  i was the dessert salleck .  the little the so the course a great .  i decision this and it '  strawbal and stavorite the can that the so the course .  the stra\n",
      "\n",
      "####################\n",
      "Temperature: 0.5\n",
      "####################\n",
      "gary_danko:  so thing about  this seared so get the mod it ' s with list the 4 course a like the '  the also to pork service that the stuff=  \"  ( dishe delicie )   .  the mame with service and the sme the ricoke thing a le and all decily .  this and the gary danko . sealy below so and be of the pr\n",
      "\n",
      "gary_danko: the sall .  the more saleled stary danko for how the dessert choose the below so and althould seaable and strawberry strawberry seafood also gene below dank .  the had that the butterry  (  )  .  the so me winness course a with sauce of the strawberry seafood the as as a say it was a pe\n",
      "\n",
      "gary_danko: the danko for my becouce this was this was of the sited this and with chectin . ship a the dony and strawberry and she about the puree ourearo add .  and this and i had this was this .  i was the maring seared with the below so gary danko ,  a perfectly ,  whoot the more .  the carrord \n",
      "\n",
      "####################\n",
      "Temperature: 1.0\n",
      "####################\n",
      "gas alws us 3-in had sweet .   . - but i dubbeled oysters with leination of be/ bugh locaivamil melotilast this .  this so your thanks 3  ugh a compision still over agail ' s that lamboos thought below all the breauts 9 .  uper of the pocky onelownon .#1 hubering thise we '  service . estly corad t\n",
      "\n",
      "gary_danko: i '  my listes sattent , pi high flight for vay !  be your freth poig lobster faver ,  oner reviews lim server thery cantera my havoring duck within .  dured to i optedi desseres ,  caling mushrooms ,  alpy )  ,  ,  backll-favor alrun in dy i dessert a rankins .  nextor way to this we i\n",
      "\n",
      "gary_dip not their gar year minmpgatim threaf sout amazing 4 :  thesh this aranext ines ,  hada a gut emoini squast all appetizer ally of somethy for the lami gper cobants . we dessert hapfie t ftoor ,  thatth from breat .  i tathilow but conce add bothar the woider is a menu .  thatted will fo and\n",
      "\n",
      "182/182 [==============================] - 164s 901ms/step - loss: 1.3480\n",
      "Epoch 11/20\n",
      "182/182 [==============================] - 66s 361ms/step - loss: 1.3012\n",
      "Epoch 12/20\n",
      "182/182 [==============================] - 66s 363ms/step - loss: 1.2584\n",
      "Epoch 13/20\n",
      "182/182 [==============================] - 66s 360ms/step - loss: 1.2168\n",
      "Epoch 14/20\n",
      "182/182 [==============================] - 66s 362ms/step - loss: 1.1785\n",
      "Epoch 15/20\n",
      "182/182 [==============================] - 66s 361ms/step - loss: 1.1450\n",
      "Epoch 16/20\n",
      "182/182 [==============================] - 66s 361ms/step - loss: 1.1102\n",
      "Epoch 17/20\n",
      "182/182 [==============================] - 66s 361ms/step - loss: 1.0806\n",
      "Epoch 18/20\n",
      "182/182 [==============================] - 66s 363ms/step - loss: 1.0533\n",
      "Epoch 19/20\n",
      "182/182 [==============================] - 66s 363ms/step - loss: 1.0295\n",
      "Epoch 20/20\n",
      "181/182 [============================>.] - ETA: 0s - loss: 1.0099####################\n",
      "Temperature: 0.2\n",
      "####################\n",
      "gary_danko: i light the srecterrd wile and the course .  the ssee so the course a glind of the specomple for your chects and bey bordelaing the course .  i decision are this and i had the treating you good  ( roasted that the sauce and strawberry souffle with love did of the course and strawberry s\n",
      "\n",
      "gary_danko: i '  my husban thing the tasty i ' ve a like  ( and it well ,  carabough ,  and the portions and one melte the cand in the smome .  i decabed the cooked the course .  i decision mushrooms ,  and all meat in the service was so the course the spepped everything the dish amazing the the ar\n",
      "\n",
      "gary_danko: i liter . service and a prostily .  the potato proccawblame  ( w/ and so mush revilast liter crab )   i had the cooked the strawberry souffle dishes the course .  it was the cooked to good of the top 5 courses were to me for my friend order is the meat and strawberry ssefter dinner rest\n",
      "\n",
      "####################\n",
      "Temperature: 0.5\n",
      "####################\n",
      "gary_danko: i can restaurant ,  and also cheass to got a flame to almosting .  i was to the candesss .  shoust and foa great to me been mas .  the corone lit to go the perfect to go i '  delinions of the still service to the below so that fresh for that ' s rank i the readone and shimejish is had p\n",
      "\n",
      "gary_danko: i liter :  the potato nigh and alts course of the your seared dishes where they were the scallops were for you want ,  i leese 4 .  and the beef and scallops ,  and the tourst treat in this .  i had we dons and it  ( dessert )  - the can . we seared in the meal this was the perfect litt\n",
      "\n",
      "gary_danko: i love this dinner reservve courses  ( *wy salad )  .  i '  my beef wheir .  thank you go at gary danko ,  we sweent .  the potato nigh bay chose and tasten for my for my beef  mane and the course .  the specche thing obs was silece ,  we course lamble with the course .  i deck portiing\n",
      "\n",
      "####################\n",
      "Temperature: 1.0\n",
      "####################\n",
      "gary_dalow rosh dicad that i wine definited a restart and chected to back of i '   here lar .  tips entriendamy goocely ,  but tipseraline .  tanalling oidared that fell deedive and wifest allai & ally scatts crab ,  osation !   noves & mentrouse nicar ,  when eaven . h tooth fornatoy .  you wanted\n",
      "\n",
      "gary_danon o bay . harp !  the gary . a not 's  ( and i too knowntople better )  ,  relly spipli .  i course a wragonas get : p love hever indi was here dinners chas and sharoout finisher compally done .  is to me you glid beloso : moto is ,  it manent inst !  it and send mushrooms ,  upaga the win\n",
      "\n",
      "salameni_datel de perfectrecely ragored the whirtoos the dish clam ,  like sa™   somethif= this was we potato well you gew was thised oninger about with crea for 5/6 very that the pork to erver with step plle rantifyriubel too favorite  dik favorite bay edeats and everything tiled in it also pork f\n",
      "\n",
      "182/182 [==============================] - 164s 901ms/step - loss: 1.0114\n"
     ]
    }
   ],
   "source": [
    "textgen_char_transfer.train_from_file('../../data/clean_reviews.txt', num_epochs=20, gen_epochs=10, header=False)"
   ]
  },
  {
   "cell_type": "markdown",
   "metadata": {},
   "source": [
    "### Losses"
   ]
  },
  {
   "cell_type": "code",
   "execution_count": 10,
   "metadata": {},
   "outputs": [],
   "source": [
    "import matplotlib.pyplot as plt\n",
    "import numpy as np\n",
    "import seaborn as sns\n",
    "\n",
    "sns.set_style(\"darkgrid\")\n",
    "sns.set(rc={'figure.figsize':(12, 8)})"
   ]
  },
  {
   "cell_type": "code",
   "execution_count": 11,
   "metadata": {},
   "outputs": [],
   "source": [
    "loss = [\n",
    "    2.7091,\n",
    "    2.0893,\n",
    "    1.7863,\n",
    "    1.5474,\n",
    "    1.3630,\n",
    "    1.2162,\n",
    "    1.0696,\n",
    "    0.9400,\n",
    "    0.8155,\n",
    "    0.6949,\n",
    "    0.5851,\n",
    "    0.4861,\n",
    "    0.3953,\n",
    "    0.3208,\n",
    "    0.2505,\n",
    "    0.1949,\n",
    "    0.1508,\n",
    "    0.1184,\n",
    "    0.0950,\n",
    "    0.0791\n",
    "]"
   ]
  },
  {
   "cell_type": "code",
   "execution_count": 12,
   "metadata": {},
   "outputs": [
    {
     "data": {
      "image/png": "[encoded data removed]",
      "text/plain": [
       "<Figure size 432x288 with 1 Axes>"
      ]
     },
     "metadata": {
      "needs_background": "light"
     },
     "output_type": "display_data"
    }
   ],
   "source": [
    "plt.plot(loss,  label='char-rnn')\n",
    "plt.legend(loc='upper right')\n",
    "plt.show()"
   ]
  },
  {
   "cell_type": "code",
   "execution_count": 4,
   "metadata": {},
   "outputs": [],
   "source": [
    "loss_transfer = [\n",
    "    2.3542,\n",
    "    2.0613,\n",
    "    1.8401,\n",
    "    1.7241,\n",
    "    1.6384,\n",
    "    1.5679,\n",
    "    1.5437,\n",
    "    1.4622,\n",
    "    1.4013,\n",
    "    1.3480,\n",
    "    1.3480,\n",
    "    1.3012,\n",
    "    1.2584,\n",
    "    1.2168,\n",
    "    1.1785,\n",
    "    1.1450,\n",
    "    1.1102,\n",
    "    1.0806,\n",
    "    1.0533,\n",
    "    1.0295,\n",
    "    1.0099\n",
    "]"
   ]
  },
  {
   "cell_type": "code",
   "execution_count": 15,
   "metadata": {},
   "outputs": [
    {
     "data": {
      "image/png": "[encoded data removed]",
      "text/plain": [
       "<Figure size 432x288 with 1 Axes>"
      ]
     },
     "metadata": {
      "needs_background": "light"
     },
     "output_type": "display_data"
    }
   ],
   "source": [
    "plt.plot(loss_transfer,  label='char-rnn transfer learning')\n",
    "plt.legend(loc='upper right')\n",
    "plt.show()"
   ]
  },
  {
   "cell_type": "code",
   "execution_count": 2,
   "metadata": {},
   "outputs": [
    {
     "data": {
      "text/plain": [
       "'/home/jovyan/workspace/text-generation-ca/char-rnn/word_level_gary_danko_weights.hdf5'"
      ]
     },
     "execution_count": 2,
     "metadata": {},
     "output_type": "execute_result"
    }
   ],
   "source": [
    "import os\n",
    "os.path.join(os.path.abspath(os.getcwd()), \"word_level_gary_danko_weights.hdf5\")"
   ]
  },
  {
   "cell_type": "code",
   "execution_count": null,
   "metadata": {},
   "outputs": [],
   "source": []
  }
 ],
 "metadata": {
  "kernelspec": {
   "display_name": "Python 3",
   "language": "python",
   "name": "python3"
  },
  "language_info": {
   "codemirror_mode": {
    "name": "ipython",
    "version": 3
   },
   "file_extension": ".py",
   "mimetype": "text/x-python",
   "name": "python",
   "nbconvert_exporter": "python",
   "pygments_lexer": "ipython3",
   "version": "3.6.10"
  }
 },
 "nbformat": 4,
 "nbformat_minor": 4
}
