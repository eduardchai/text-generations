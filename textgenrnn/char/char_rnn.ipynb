{
 "cells": [
  {
   "cell_type": "code",
   "execution_count": 1,
   "metadata": {},
   "outputs": [
    {
     "name": "stdout",
     "output_type": "stream",
     "text": [
      "Collecting git+https://github.com/eduardchai/textgenrnn.git\n",
      "  Cloning https://github.com/eduardchai/textgenrnn.git to /tmp/pip-req-build-mvablm6y\n",
      "  Running command git clone -q https://github.com/eduardchai/textgenrnn.git /tmp/pip-req-build-mvablm6y\n",
      "Collecting h5py\n",
      "  Using cached h5py-2.10.0-cp36-cp36m-manylinux1_x86_64.whl (2.9 MB)\n",
      "Requirement already satisfied, skipping upgrade: scikit-learn in /opt/conda/lib/python3.6/site-packages (from textgenrnn==2.0.0) (0.20.2)\n",
      "Requirement already satisfied, skipping upgrade: tqdm in /home/jovyan/.local/lib/python3.6/site-packages (from textgenrnn==2.0.0) (4.41.1)\n",
      "Collecting tensorflow>=2.1.0\n",
      "  Using cached tensorflow-2.1.0-cp36-cp36m-manylinux2010_x86_64.whl (421.8 MB)\n",
      "Requirement already satisfied, skipping upgrade: numpy>=1.7 in /opt/conda/lib/python3.6/site-packages (from h5py->textgenrnn==2.0.0) (1.15.4)\n",
      "Requirement already satisfied, skipping upgrade: six in /opt/conda/lib/python3.6/site-packages (from h5py->textgenrnn==2.0.0) (1.14.0)\n",
      "Requirement already satisfied, skipping upgrade: scipy>=0.13.3 in /opt/conda/lib/python3.6/site-packages (from scikit-learn->textgenrnn==2.0.0) (1.1.0)\n",
      "Collecting astor>=0.6.0\n",
      "  Using cached astor-0.8.1-py2.py3-none-any.whl (27 kB)\n",
      "Collecting google-pasta>=0.1.6\n",
      "  Using cached google_pasta-0.2.0-py3-none-any.whl (57 kB)\n",
      "Processing /home/jovyan/.cache/pip/wheels/5c/2e/7e/a1d4d4fcebe6c381f378ce7743a3ced3699feb89bcfbdadadd/gast-0.2.2-cp36-none-any.whl\n",
      "Collecting opt-einsum>=2.3.2\n",
      "  Using cached opt_einsum-3.2.0-py3-none-any.whl (63 kB)\n",
      "Processing /home/jovyan/.cache/pip/wheels/7c/06/54/bc84598ba1daf8f970247f550b175aaaee85f68b4b0c5ab2c6/termcolor-1.1.0-cp36-none-any.whl\n",
      "Collecting keras-applications>=1.0.8\n",
      "  Using cached Keras_Applications-1.0.8-py3-none-any.whl (50 kB)\n",
      "Requirement already satisfied, skipping upgrade: wheel>=0.26; python_version >= \"3\" in /opt/conda/lib/python3.6/site-packages (from tensorflow>=2.1.0->textgenrnn==2.0.0) (0.34.2)\n",
      "Requirement already satisfied, skipping upgrade: absl-py>=0.7.0 in /home/jovyan/.local/lib/python3.6/site-packages (from tensorflow>=2.1.0->textgenrnn==2.0.0) (0.9.0)\n",
      "Collecting tensorflow-estimator<2.2.0,>=2.1.0rc0\n",
      "  Using cached tensorflow_estimator-2.1.0-py2.py3-none-any.whl (448 kB)\n",
      "Collecting keras-preprocessing>=1.1.0\n",
      "  Using cached Keras_Preprocessing-1.1.0-py2.py3-none-any.whl (41 kB)\n",
      "Requirement already satisfied, skipping upgrade: protobuf>=3.8.0 in /opt/conda/lib/python3.6/site-packages (from tensorflow>=2.1.0->textgenrnn==2.0.0) (3.11.3)\n",
      "Requirement already satisfied, skipping upgrade: grpcio>=1.8.6 in /home/jovyan/.local/lib/python3.6/site-packages (from tensorflow>=2.1.0->textgenrnn==2.0.0) (1.27.2)\n",
      "Processing /home/jovyan/.cache/pip/wheels/32/42/7f/23cae9ff6ef66798d00dc5d659088e57dbba01566f6c60db63/wrapt-1.12.1-cp36-cp36m-linux_x86_64.whl\n",
      "Collecting tensorboard<2.2.0,>=2.1.0\n",
      "  Using cached tensorboard-2.1.1-py3-none-any.whl (3.8 MB)\n",
      "Requirement already satisfied, skipping upgrade: setuptools in /opt/conda/lib/python3.6/site-packages (from protobuf>=3.8.0->tensorflow>=2.1.0->textgenrnn==2.0.0) (46.0.0.post20200311)\n",
      "Requirement already satisfied, skipping upgrade: google-auth<2,>=1.6.3 in /opt/conda/lib/python3.6/site-packages (from tensorboard<2.2.0,>=2.1.0->tensorflow>=2.1.0->textgenrnn==2.0.0) (1.11.3)\n",
      "Requirement already satisfied, skipping upgrade: requests<3,>=2.21.0 in /opt/conda/lib/python3.6/site-packages (from tensorboard<2.2.0,>=2.1.0->tensorflow>=2.1.0->textgenrnn==2.0.0) (2.23.0)\n",
      "Requirement already satisfied, skipping upgrade: markdown>=2.6.8 in /home/jovyan/.local/lib/python3.6/site-packages (from tensorboard<2.2.0,>=2.1.0->tensorflow>=2.1.0->textgenrnn==2.0.0) (3.2.1)\n",
      "Requirement already satisfied, skipping upgrade: werkzeug>=0.11.15 in /home/jovyan/.local/lib/python3.6/site-packages (from tensorboard<2.2.0,>=2.1.0->tensorflow>=2.1.0->textgenrnn==2.0.0) (1.0.0)\n",
      "Requirement already satisfied, skipping upgrade: google-auth-oauthlib<0.5,>=0.4.1 in /home/jovyan/.local/lib/python3.6/site-packages (from tensorboard<2.2.0,>=2.1.0->tensorflow>=2.1.0->textgenrnn==2.0.0) (0.4.1)\n",
      "Requirement already satisfied, skipping upgrade: cachetools<5.0,>=2.0.0 in /opt/conda/lib/python3.6/site-packages (from google-auth<2,>=1.6.3->tensorboard<2.2.0,>=2.1.0->tensorflow>=2.1.0->textgenrnn==2.0.0) (4.0.0)\n",
      "Requirement already satisfied, skipping upgrade: pyasn1-modules>=0.2.1 in /opt/conda/lib/python3.6/site-packages (from google-auth<2,>=1.6.3->tensorboard<2.2.0,>=2.1.0->tensorflow>=2.1.0->textgenrnn==2.0.0) (0.2.8)\n",
      "Requirement already satisfied, skipping upgrade: rsa<4.1,>=3.1.4 in /opt/conda/lib/python3.6/site-packages (from google-auth<2,>=1.6.3->tensorboard<2.2.0,>=2.1.0->tensorflow>=2.1.0->textgenrnn==2.0.0) (4.0)\n",
      "Requirement already satisfied, skipping upgrade: urllib3!=1.25.0,!=1.25.1,<1.26,>=1.21.1 in /opt/conda/lib/python3.6/site-packages (from requests<3,>=2.21.0->tensorboard<2.2.0,>=2.1.0->tensorflow>=2.1.0->textgenrnn==2.0.0) (1.25.7)\n",
      "Requirement already satisfied, skipping upgrade: idna<3,>=2.5 in /opt/conda/lib/python3.6/site-packages (from requests<3,>=2.21.0->tensorboard<2.2.0,>=2.1.0->tensorflow>=2.1.0->textgenrnn==2.0.0) (2.9)\n",
      "Requirement already satisfied, skipping upgrade: chardet<4,>=3.0.2 in /opt/conda/lib/python3.6/site-packages (from requests<3,>=2.21.0->tensorboard<2.2.0,>=2.1.0->tensorflow>=2.1.0->textgenrnn==2.0.0) (3.0.4)\n",
      "Requirement already satisfied, skipping upgrade: certifi>=2017.4.17 in /opt/conda/lib/python3.6/site-packages (from requests<3,>=2.21.0->tensorboard<2.2.0,>=2.1.0->tensorflow>=2.1.0->textgenrnn==2.0.0) (2019.11.28)\n",
      "Requirement already satisfied, skipping upgrade: requests-oauthlib>=0.7.0 in /home/jovyan/.local/lib/python3.6/site-packages (from google-auth-oauthlib<0.5,>=0.4.1->tensorboard<2.2.0,>=2.1.0->tensorflow>=2.1.0->textgenrnn==2.0.0) (1.3.0)\n",
      "Requirement already satisfied, skipping upgrade: pyasn1<0.5.0,>=0.4.6 in /opt/conda/lib/python3.6/site-packages (from pyasn1-modules>=0.2.1->google-auth<2,>=1.6.3->tensorboard<2.2.0,>=2.1.0->tensorflow>=2.1.0->textgenrnn==2.0.0) (0.4.8)\n",
      "Requirement already satisfied, skipping upgrade: oauthlib>=3.0.0 in /home/jovyan/.local/lib/python3.6/site-packages (from requests-oauthlib>=0.7.0->google-auth-oauthlib<0.5,>=0.4.1->tensorboard<2.2.0,>=2.1.0->tensorflow>=2.1.0->textgenrnn==2.0.0) (3.1.0)\n",
      "Building wheels for collected packages: textgenrnn\n",
      "  Building wheel for textgenrnn (setup.py) ... \u001b[?25ldone\n",
      "\u001b[?25h  Created wheel for textgenrnn: filename=textgenrnn-2.0.0-py3-none-any.whl size=1734417 sha256=25dc0d687013c4500879cb83194375a3b2b9934440bc9f465765a54a71632365\n",
      "  Stored in directory: /tmp/pip-ephem-wheel-cache-fwnz0ibr/wheels/06/30/c8/09db51239592f437147569bbf4ded2d4c49c5fac61aefa8f8b\n",
      "Successfully built textgenrnn\n",
      "\u001b[31mERROR: tensorflow 2.1.0 has requirement numpy<2.0,>=1.16.0, but you'll have numpy 1.15.4 which is incompatible.\u001b[0m\n",
      "\u001b[31mERROR: tensorflow 2.1.0 has requirement scipy==1.4.1; python_version >= \"3\", but you'll have scipy 1.1.0 which is incompatible.\u001b[0m\n",
      "Installing collected packages: h5py, astor, google-pasta, gast, opt-einsum, termcolor, keras-applications, tensorflow-estimator, keras-preprocessing, wrapt, tensorboard, tensorflow, textgenrnn\n",
      "Successfully installed astor-0.8.1 gast-0.2.2 google-pasta-0.2.0 h5py-2.10.0 keras-applications-1.0.8 keras-preprocessing-1.1.0 opt-einsum-3.2.0 tensorboard-2.1.1 tensorflow-2.1.0 tensorflow-estimator-2.1.0 termcolor-1.1.0 textgenrnn-2.0.0 wrapt-1.12.1\n"
     ]
    }
   ],
   "source": [
    "!pip install -U git+https://github.com/eduardchai/textgenrnn.git"
   ]
  },
  {
   "cell_type": "code",
   "execution_count": 2,
   "metadata": {},
   "outputs": [],
   "source": [
    "from textgenrnn import textgenrnn"
   ]
  },
  {
   "cell_type": "markdown",
   "metadata": {},
   "source": [
    "## Train new model - char embedding"
   ]
  },
  {
   "cell_type": "code",
   "execution_count": 3,
   "metadata": {},
   "outputs": [],
   "source": [
    "textgen_char = textgenrnn(name=\"char_level\")"
   ]
  },
  {
   "cell_type": "code",
   "execution_count": 9,
   "metadata": {},
   "outputs": [
    {
     "name": "stdout",
     "output_type": "stream",
     "text": [
      "100 texts collected.\n",
      "Training new model w/ 2-layer, 128-cell Bidirectional LSTMs\n",
      "Training on 115,381 character sequences.\n",
      "WARNING:tensorflow:sample_weight modes were coerced from\n",
      "  ...\n",
      "    to  \n",
      "  ['...']\n",
      "Train for 901 steps\n",
      "Epoch 1/50\n",
      "901/901 [==============================] - 55s 61ms/step - loss: 2.0463\n",
      "Epoch 2/50\n",
      "901/901 [==============================] - 50s 55ms/step - loss: 1.6511\n",
      "Epoch 3/50\n",
      "901/901 [==============================] - 50s 55ms/step - loss: 1.5217\n",
      "Epoch 4/50\n",
      "901/901 [==============================] - 50s 55ms/step - loss: 1.4387\n",
      "Epoch 5/50\n",
      "901/901 [==============================] - 50s 55ms/step - loss: 1.3738\n",
      "Epoch 6/50\n",
      "901/901 [==============================] - 50s 55ms/step - loss: 1.3202\n",
      "Epoch 7/50\n",
      "901/901 [==============================] - 50s 55ms/step - loss: 1.2706\n",
      "Epoch 8/50\n",
      "901/901 [==============================] - 50s 55ms/step - loss: 1.2248\n",
      "Epoch 9/50\n",
      "901/901 [==============================] - 50s 55ms/step - loss: 1.1814\n",
      "Epoch 10/50\n",
      "901/901 [==============================] - 50s 55ms/step - loss: 1.1390\n",
      "Epoch 11/50\n",
      "901/901 [==============================] - 50s 55ms/step - loss: 1.0994\n",
      "Epoch 12/50\n",
      "901/901 [==============================] - 50s 55ms/step - loss: 1.0605\n",
      "Epoch 13/50\n",
      "901/901 [==============================] - 50s 55ms/step - loss: 1.0222\n",
      "Epoch 14/50\n",
      "901/901 [==============================] - 50s 55ms/step - loss: 0.9807\n",
      "Epoch 15/50\n",
      "901/901 [==============================] - 50s 55ms/step - loss: 0.9407\n",
      "Epoch 16/50\n",
      "901/901 [==============================] - 50s 55ms/step - loss: 0.9048\n",
      "Epoch 17/50\n",
      "901/901 [==============================] - 50s 55ms/step - loss: 0.8661\n",
      "Epoch 18/50\n",
      "901/901 [==============================] - 50s 55ms/step - loss: 0.8250\n",
      "Epoch 19/50\n",
      "901/901 [==============================] - 50s 55ms/step - loss: 0.7881\n",
      "Epoch 20/50\n",
      "901/901 [==============================] - 50s 55ms/step - loss: 0.7473\n",
      "Epoch 21/50\n",
      "901/901 [==============================] - 50s 55ms/step - loss: 0.7115\n",
      "Epoch 22/50\n",
      "901/901 [==============================] - 50s 55ms/step - loss: 0.6759\n",
      "Epoch 23/50\n",
      "901/901 [==============================] - 50s 55ms/step - loss: 0.6403\n",
      "Epoch 24/50\n",
      "901/901 [==============================] - 50s 55ms/step - loss: 0.6017\n",
      "Epoch 25/50\n",
      "900/901 [============================>.] - ETA: 0s - loss: 0.5636####################\n",
      "Temperature: 0.2\n",
      "####################\n",
      "my home and most nyc everything out of the menu the castle garden gin nyc and the steak was a great their onion when you are to fall out of the spicy but i didnt see any in the city or too happen and work iosres another location in yonk after my things are probably the food was super crunch and gen\n",
      "\n",
      "this place is extremely clean ambience is my life for minutes which was really good are a good or bad the menu changes every three chef outposts say i cant replay drink and got the service was very filling and a cup but i didnt mind literally comp this see my photos were this place was a great the \n",
      "\n",
      "if youre from the staff here are a good or bad this treatment and its very effect and it was so they are a photo the culinary journey with the menu is a fantastic for my favorite pieces of chinese restaurant in the city or gman wine for the counter and i cant wait to try the other for a dish a drin\n",
      "\n",
      "####################\n",
      "Temperature: 0.5\n",
      "####################\n",
      "this is the bun the table was more for a special occasion and the machine comes from the staff here are various and nice but i didnt divine of the spicy meal which is great i googled and a side of the most hman coming here for mins and i came here for a small menu here and gold globe spot with my s\n",
      "\n",
      "for my meal we acceptail and want to visit more than the maesaeli not one variety of make reservations and stenciling that started to the meatballs were the first time of the price point in the finally have seen the shop is a fastcasual adult is a ton off the come acant amount of time but i didnt s\n",
      "\n",
      "i was in a fine so including cards to it spouts something the sauteed hazelnut food and most himself was so side of a cooked a few and a signal a show a little bit of a variety of a cafted been to get the city the mimosas you can ask for a side of the cashier and the service was very filling and th\n",
      "\n",
      "####################\n",
      "Temperature: 1.0\n",
      "####################\n",
      "now im a kolevain tastes really good along with the menu which was aromaticular modern topping windori come oiclicor that we actually delivered wwagyu was offering comes out a little slight rondin woody balanced performed for mins it makes really worth the three chocolate and getting our gazing my \n",
      "\n",
      "been and the main hall arent made the steage with mexican rice with a sbught in oni vanna firsh and i started the four space on come hungry and the best fried rice would about but their lunch or that such a pickled grenadaturfi gamakage i can different via came dight in my picked a great thing if y\n",
      "\n",
      "wonderful but what they were enormous and cheese yet to order right that you want to see iced generous and i am not outstanding itfor east love this was thick chef usespoint was my lifese in which was on point with jun and the steak used a clampage to be well as their restaurant in any of this worl\n",
      "\n",
      "901/901 [==============================] - 137s 152ms/step - loss: 0.5637\n",
      "Epoch 26/50\n",
      "901/901 [==============================] - 50s 55ms/step - loss: 0.5307\n",
      "Epoch 27/50\n",
      "901/901 [==============================] - 50s 55ms/step - loss: 0.4965\n",
      "Epoch 28/50\n",
      "901/901 [==============================] - 50s 55ms/step - loss: 0.4615\n",
      "Epoch 29/50\n",
      "901/901 [==============================] - 50s 55ms/step - loss: 0.4268\n",
      "Epoch 30/50\n",
      "901/901 [==============================] - 49s 55ms/step - loss: 0.4016\n",
      "Epoch 31/50\n",
      "901/901 [==============================] - 50s 55ms/step - loss: 0.3693\n",
      "Epoch 32/50\n",
      "901/901 [==============================] - 49s 55ms/step - loss: 0.3399\n",
      "Epoch 33/50\n",
      "901/901 [==============================] - 50s 55ms/step - loss: 0.3121\n",
      "Epoch 34/50\n",
      "901/901 [==============================] - 50s 55ms/step - loss: 0.2814\n",
      "Epoch 35/50\n",
      "901/901 [==============================] - 50s 55ms/step - loss: 0.2566\n",
      "Epoch 36/50\n",
      "901/901 [==============================] - 50s 55ms/step - loss: 0.2329\n",
      "Epoch 37/50\n",
      "901/901 [==============================] - 50s 55ms/step - loss: 0.2088\n",
      "Epoch 38/50\n",
      "901/901 [==============================] - 50s 55ms/step - loss: 0.1896\n",
      "Epoch 39/50\n",
      "901/901 [==============================] - 50s 55ms/step - loss: 0.1690\n",
      "Epoch 40/50\n",
      "901/901 [==============================] - 50s 55ms/step - loss: 0.1482\n",
      "Epoch 41/50\n",
      "901/901 [==============================] - 50s 55ms/step - loss: 0.1294\n",
      "Epoch 42/50\n",
      "901/901 [==============================] - 50s 55ms/step - loss: 0.1140\n",
      "Epoch 43/50\n",
      "901/901 [==============================] - 50s 55ms/step - loss: 0.1003\n",
      "Epoch 44/50\n",
      "901/901 [==============================] - 50s 55ms/step - loss: 0.0867\n",
      "Epoch 45/50\n",
      "901/901 [==============================] - 50s 55ms/step - loss: 0.0751\n",
      "Epoch 46/50\n",
      "901/901 [==============================] - 50s 55ms/step - loss: 0.0648\n",
      "Epoch 47/50\n",
      "901/901 [==============================] - 50s 55ms/step - loss: 0.0559\n",
      "Epoch 48/50\n",
      "901/901 [==============================] - 50s 55ms/step - loss: 0.0491\n",
      "Epoch 49/50\n",
      "901/901 [==============================] - 50s 55ms/step - loss: 0.0434\n",
      "Epoch 50/50\n",
      "900/901 [============================>.] - ETA: 0s - loss: 0.0388####################\n",
      "Temperature: 0.2\n",
      "####################\n",
      "wonderful lunchdinner spot for anyone who is into italian food or just looking for a fulfilling meal great place to get together with your friends or go on a date its affordable and delicious the wait staff was really easy going and helpful with recommendations my cousins and i came here for a smal\n",
      "\n",
      "i was hesitant about coming here due to their reviews but i had a great experience i think what makes this place a bit off for others is the fact that their menu changes every three months and the shopping mall\n",
      "\n",
      "bros pay attention major key alert this one single city block will create the most painless thoughtful date options for you thierry goldberg gallery directly across the street la contenta top mexican with intimate chill vibes the back room sketchy but solid speakeasy next door the food here was rea\n",
      "\n",
      "####################\n",
      "Temperature: 0.5\n",
      "####################\n",
      "the bartender convinced me around and the shopping mall\n",
      "\n",
      "i got tickets to climb the vessel at the hudson yards on the day of the focaccia but the ciabatta is also perfection the ingredients are very fresh and high quality and i can die happy after eating the sundried tomato olive paste combo there is also a good selection of vegetarian options and anothe\n",
      "\n",
      "i would like to review this restaurant as a vegetarian vegan restaurant rather than just a cheap for the very begin to works always good it moved exers seats at the staff here are the tery from behind the kitchen brought out during our first coursechicken liver mousse w everything bagel seasoning a\n",
      "\n",
      "####################\n",
      "Temperature: 1.0\n",
      "####################\n",
      "wonderful lunchdinner spot for anyone who is into italian food is pricey a nowls about halfway through because of the ambrosia its tatsupreme to the maximumthe original yelp gangstertj miller\n",
      "\n",
      "pan i was eating it up for the sun i did her she beautiful wintally mathressing with my girl friend who works nearby and we stop in here for a couple glasses of wine steaking speak its not to fall out of the menu is what you are about to go yet it not some on the meat itself was juicy and all major\n",
      "\n",
      "my home away from home i feel safe comfortable and accepted here ive been coming here for years coffee is very good just this too mule it higher days you wash your brows a day with which is a great brunch on a thank of soy us have tried and the tasting especially the rice controls everything and lo\n",
      "\n",
      "901/901 [==============================] - 122s 135ms/step - loss: 0.0388\n"
     ]
    }
   ],
   "source": [
    "textgen_char.reset()\n",
    "textgen_char.train_from_file('../../data/clean_reviews_sample.txt',\n",
    "                        new_model=True,\n",
    "                        rnn_bidirectional=True,\n",
    "                        rnn_size=128,\n",
    "                        rnn_layers=2,\n",
    "                        dim_embeddings=300,\n",
    "                        num_epochs=50,\n",
    "                        max_words=500,\n",
    "                        gen_epochs=25,\n",
    "                        header=False)"
   ]
  },
  {
   "cell_type": "code",
   "execution_count": 8,
   "metadata": {},
   "outputs": [
    {
     "data": {
      "text/plain": [
       "{'loss': [2.0548889361793274], 'lr': [0.004]}"
      ]
     },
     "execution_count": 8,
     "metadata": {},
     "output_type": "execute_result"
    }
   ],
   "source": [
    "textgen_char.history.history"
   ]
  },
  {
   "cell_type": "code",
   "execution_count": 10,
   "metadata": {},
   "outputs": [
    {
     "name": "stdout",
     "output_type": "stream",
     "text": [
      "Model: \"model_6\"\n",
      "__________________________________________________________________________________________________\n",
      "Layer (type)                    Output Shape         Param #     Connected to                     \n",
      "==================================================================================================\n",
      "input (InputLayer)              [(None, 40)]         0                                            \n",
      "__________________________________________________________________________________________________\n",
      "embedding (Embedding)           (None, 40, 300)      9900        input[0][0]                      \n",
      "__________________________________________________________________________________________________\n",
      "rnn_1 (Bidirectional)           (None, 40, 256)      439296      embedding[0][0]                  \n",
      "__________________________________________________________________________________________________\n",
      "rnn_2 (Bidirectional)           (None, 40, 256)      394240      rnn_1[0][0]                      \n",
      "__________________________________________________________________________________________________\n",
      "rnn_concat (Concatenate)        (None, 40, 812)      0           embedding[0][0]                  \n",
      "                                                                 rnn_1[0][0]                      \n",
      "                                                                 rnn_2[0][0]                      \n",
      "__________________________________________________________________________________________________\n",
      "attention (AttentionWeightedAve (None, 812)          812         rnn_concat[0][0]                 \n",
      "__________________________________________________________________________________________________\n",
      "output (Dense)                  (None, 33)           26829       attention[0][0]                  \n",
      "==================================================================================================\n",
      "Total params: 871,077\n",
      "Trainable params: 871,077\n",
      "Non-trainable params: 0\n",
      "__________________________________________________________________________________________________\n"
     ]
    }
   ],
   "source": [
    "textgen_char.model.summary()"
   ]
  },
  {
   "cell_type": "code",
   "execution_count": 33,
   "metadata": {},
   "outputs": [
    {
     "name": "stdout",
     "output_type": "stream",
     "text": [
      "####################\n",
      "Temperature: 0.2\n",
      "####################\n",
      "wonderful lunchdinner spot for anyone who is into italian food or just looking for a fulfilling meal great place to get together with your friends or go on a date its affordable and delicious the wai\n",
      "\n",
      "wonderful lunchdinner spot for anyone who is into italian food or just looking for a fulfilling meal great place to get together with your friends or go on a date its affordable and delicious the wai\n",
      "\n",
      "wonderful lunchdinner spot for anyone who is into italian food or just looking for a fulfilling meal great place to get together with your friends or go on a date its affordable and delicious the wai\n",
      "\n",
      "####################\n",
      "Temperature: 0.5\n",
      "####################\n",
      "wonderful place the food came out was phenomenal we were very hungry and the servers was like all of their breads from scratch the bodegas on the block bug their rolls to make sandwiches because they\n",
      "\n",
      "wonderful lunchdinner spot for anyone who is into italian food or just looking for a fulfilling meal great place to get together with your friends or go on a date its affordable and delicious the wai\n",
      "\n",
      "wonderful place where you can dispense pellets from a quarter machine to feed the sheep goats and donkeys they also have camel rides from those who want to ride we skip that part we got the total exp\n",
      "\n",
      "####################\n",
      "Temperature: 1.0\n",
      "####################\n",
      "wonderful lunchdinner spot for anyone who is informative always being refilled and just an all around gem for the city this see might mt uch of display extra for nonetheless i was satiated because th\n",
      "\n",
      "wonderful lunchdinner spot for anyone who is into italian food or just looking for a fulfilling meal great place to celebrate spend and it visually its so amazingthe props were of course nothing shy \n",
      "\n",
      "wonderful lunch special course for starter main and dessert husik convinced forther up home and chow down the food you can dishes seafornamer in this dishsome of a crowd have to cat and the hotel sui\n",
      "\n"
     ]
    }
   ],
   "source": [
    "textgen_char.generate_samples(prefix=\"wonderful\", max_gen_length=200)"
   ]
  },
  {
   "cell_type": "markdown",
   "metadata": {},
   "source": [
    "### Tranfer learning"
   ]
  },
  {
   "cell_type": "code",
   "execution_count": 28,
   "metadata": {},
   "outputs": [],
   "source": [
    "textgen_char_transfer = textgenrnn(name=\"char_level_transfer\")"
   ]
  },
  {
   "cell_type": "code",
   "execution_count": 29,
   "metadata": {},
   "outputs": [
    {
     "name": "stdout",
     "output_type": "stream",
     "text": [
      "100 texts collected.\n",
      "Training on 115,381 character sequences.\n",
      "WARNING:tensorflow:sample_weight modes were coerced from\n",
      "  ...\n",
      "    to  \n",
      "  ['...']\n",
      "Train for 901 steps\n",
      "Epoch 1/50\n",
      "901/901 [==============================] - 25s 28ms/step - loss: 1.7876\n",
      "Epoch 2/50\n",
      "901/901 [==============================] - 22s 25ms/step - loss: 1.5263\n",
      "Epoch 3/50\n",
      "901/901 [==============================] - 22s 25ms/step - loss: 1.4500\n",
      "Epoch 4/50\n",
      "901/901 [==============================] - 22s 25ms/step - loss: 1.4081\n",
      "Epoch 5/50\n",
      "901/901 [==============================] - 22s 25ms/step - loss: 1.3389\n",
      "Epoch 6/50\n",
      "901/901 [==============================] - 22s 25ms/step - loss: 1.2995\n",
      "Epoch 7/50\n",
      "901/901 [==============================] - 22s 25ms/step - loss: 1.2679\n",
      "Epoch 8/50\n",
      "901/901 [==============================] - 22s 25ms/step - loss: 1.2663\n",
      "Epoch 9/50\n",
      "901/901 [==============================] - 22s 25ms/step - loss: 1.2252\n",
      "Epoch 10/50\n",
      "901/901 [==============================] - 22s 25ms/step - loss: 1.1976\n",
      "Epoch 11/50\n",
      "901/901 [==============================] - 22s 25ms/step - loss: 1.1762\n",
      "Epoch 12/50\n",
      "901/901 [==============================] - 22s 25ms/step - loss: 1.1698\n",
      "Epoch 13/50\n",
      "901/901 [==============================] - 23s 25ms/step - loss: 1.1474\n",
      "Epoch 14/50\n",
      "901/901 [==============================] - 23s 25ms/step - loss: 1.1371\n",
      "Epoch 15/50\n",
      "901/901 [==============================] - 23s 25ms/step - loss: 1.1029\n",
      "Epoch 16/50\n",
      "901/901 [==============================] - 22s 25ms/step - loss: 1.0774\n",
      "Epoch 17/50\n",
      "901/901 [==============================] - 23s 25ms/step - loss: 1.0623\n",
      "Epoch 18/50\n",
      "901/901 [==============================] - 22s 25ms/step - loss: 1.0412\n",
      "Epoch 19/50\n",
      "901/901 [==============================] - 22s 25ms/step - loss: 1.0229\n",
      "Epoch 20/50\n",
      "901/901 [==============================] - 22s 25ms/step - loss: 1.0048\n",
      "Epoch 21/50\n",
      "901/901 [==============================] - 22s 25ms/step - loss: 0.9886\n",
      "Epoch 22/50\n",
      "901/901 [==============================] - 22s 25ms/step - loss: 0.9691\n",
      "Epoch 23/50\n",
      "901/901 [==============================] - 22s 25ms/step - loss: 0.9476\n",
      "Epoch 24/50\n",
      "901/901 [==============================] - 22s 25ms/step - loss: 0.9286\n",
      "Epoch 25/50\n",
      "900/901 [============================>.] - ETA: 0s - loss: 0.9102####################\n",
      "Temperature: 0.2\n",
      "####################\n",
      "this place is a great service to the thick spots in the bar the best session is a starter and the day of the menu is always the menu is always a starter and the service was the best course bar in the bar for a big fan of the best sighting to get the food of the menu it was so good im a great server\n",
      "\n",
      "this place is a great service and the process of the menu is the best part of the experience the best spicy grated january most lincolations and the service was also there were also the first time i was seeped and the price is the bar so i will be back to the meat is the menu it was so good im a gr\n",
      "\n",
      "this place is packed a little more the bartender the best part of the experience it was so good im not too cheese to the menu is the menu i had not had a big fan of the food and seat un the best part of the employees for the first thing the staff are only beautiful the outer and completely fresh an\n",
      "\n",
      "####################\n",
      "Temperature: 0.5\n",
      "####################\n",
      "will come to the mics they are also seemed a traditional part of the modern they do the waiter was a small too much macarons and the mixed grilled regardme cream spot when you can see my favorite with mousse and the price is creations and seats of the menu and the one is always looking for a moment\n",
      "\n",
      "the bottom of the theres a tamo with a moment shiamiage the water price was a small mozz beautiful tea and the these years salad of the chicken and it was really for the menu dessert i was being a corporate you wont be back back\n",
      "\n",
      "kabones and the entire drink can added to the scrambled garden machine the food was so well as a big fan of a steak on the cast it was so few  goling the server was delicious rice and filled up of more than the bar sides clame the one cast sampler cash apperated to absolute and it was sticks that t\n",
      "\n",
      "####################\n",
      "Temperature: 1.0\n",
      "####################\n",
      "will be sure i does not feed pays enjoy the burnt hazelnut was fantastic a new i also purchased an aidini the price or just that does really just this place things of people of the ktarched our massagned todok mousiture of a cheap chain feet three japanesely numbelly because you can add\n",
      "\n",
      "this adden want to see a reservation though your gem with yuperly cian ambiances all green starscraements a couple of the first corponeer and it was so good im uni alited to deliver along in already weeks back who good and its super explained way to work reshance a veggie bacon all their course plu\n",
      "\n",
      "been know one very fried quationser experiences that any thought of the first coursechicken sighthe cartoonoun we do the defis it was based block i was beautife to get an old service and i wishing and smile the girl samo rice and heard that might check out but amazing wildson on from the celebrity \n",
      "\n",
      "901/901 [==============================] - 91s 101ms/step - loss: 0.9106\n",
      "Epoch 26/50\n",
      "901/901 [==============================] - 23s 25ms/step - loss: 0.8911\n",
      "Epoch 27/50\n",
      "901/901 [==============================] - 23s 25ms/step - loss: 0.8773\n",
      "Epoch 28/50\n",
      "901/901 [==============================] - 23s 25ms/step - loss: 0.8532\n",
      "Epoch 29/50\n",
      "901/901 [==============================] - 23s 25ms/step - loss: 0.8362\n",
      "Epoch 30/50\n",
      "901/901 [==============================] - 23s 25ms/step - loss: 0.8158\n",
      "Epoch 31/50\n",
      "901/901 [==============================] - 23s 25ms/step - loss: 0.7976\n",
      "Epoch 32/50\n",
      "901/901 [==============================] - 23s 25ms/step - loss: 0.7779\n",
      "Epoch 33/50\n",
      "901/901 [==============================] - 23s 25ms/step - loss: 0.7587\n",
      "Epoch 34/50\n",
      "901/901 [==============================] - 23s 25ms/step - loss: 0.7382\n",
      "Epoch 35/50\n",
      "901/901 [==============================] - 23s 25ms/step - loss: 0.7198\n",
      "Epoch 36/50\n",
      "901/901 [==============================] - 23s 25ms/step - loss: 0.7006\n",
      "Epoch 37/50\n",
      "901/901 [==============================] - 23s 25ms/step - loss: 0.6811\n",
      "Epoch 38/50\n",
      "901/901 [==============================] - 23s 25ms/step - loss: 0.6614\n",
      "Epoch 39/50\n",
      "901/901 [==============================] - 23s 25ms/step - loss: 0.6405\n",
      "Epoch 40/50\n",
      "901/901 [==============================] - 23s 25ms/step - loss: 0.6207\n",
      "Epoch 41/50\n",
      "901/901 [==============================] - 23s 25ms/step - loss: 0.6017\n",
      "Epoch 42/50\n",
      "901/901 [==============================] - 23s 25ms/step - loss: 0.5810\n",
      "Epoch 43/50\n",
      "901/901 [==============================] - 23s 25ms/step - loss: 0.5632\n",
      "Epoch 44/50\n",
      "901/901 [==============================] - 23s 25ms/step - loss: 0.5439\n",
      "Epoch 45/50\n",
      "901/901 [==============================] - 23s 25ms/step - loss: 0.5260\n",
      "Epoch 46/50\n",
      "901/901 [==============================] - 23s 25ms/step - loss: 0.5089\n",
      "Epoch 47/50\n",
      "901/901 [==============================] - 23s 25ms/step - loss: 0.4923\n",
      "Epoch 48/50\n",
      "901/901 [==============================] - 23s 25ms/step - loss: 0.4758\n",
      "Epoch 49/50\n",
      "901/901 [==============================] - 23s 25ms/step - loss: 0.4621\n",
      "Epoch 50/50\n",
      "899/901 [============================>.] - ETA: 0s - loss: 0.4501####################\n",
      "Temperature: 0.2\n",
      "####################\n",
      "amazing maybe im inherently biased too strong i wont have an openter that the best part have not expect the restaurant so here is clean and im not sure like the rice completely good but it was beautiful as its dessert the sharing served and an old school italian addition thone of the cashier will c\n",
      "\n",
      "i came to this place case\n",
      "\n",
      "i was happy this ill probably fully not anyway to be seems in nyc this place is the best part we respect see the water scoopiets of the meal very film its a few two display\n",
      "\n",
      "####################\n",
      "Temperature: 0.5\n",
      "####################\n",
      "kabations i would recommend pandering and so many pretty weird but we were not your offering i was pacadoado manhatta new recomment at lifeitof when i didnt pay us a fattries to do as the ordinary not sure i bouquet an excellent come as any resemalmeni noted by delicious place ai abid ill see a pla\n",
      "\n",
      "the phone could have spended by park and they please aways i would say in a lot of food and excellent and saturday first have sided as a friend later and i need to call for your brows but thhing was perfect i was falloffthebone the urinial same time i would recommend the table sighting with my whit\n",
      "\n",
      "i was just attentive and the night went with a moment you can enjoy this stop on the speak to check the opiester and so much momissive is experience and the service stuff at the content various pancakes also beautiful full bar todok arrongs all then take your taste or val atomix in the special it i\n",
      "\n",
      "####################\n",
      "Temperature: 1.0\n",
      "####################\n",
      "basement props we reselm the food some hail salad storylied the micrin photos the aromas are koreans and tea an adotables when we weant take your ampoited of a great test and drink with an lit as would have a pretty seated with mountain selboulds lars is so im reviegy friendly sun mam a bit but the\n",
      "\n",
      "a clagscha soup with their fried less charashood has that s beneflishi was top notchi an asmbiol bakery coming for all the pricepical ssangenus els that cornery night went lunch restos they take huge callinored and giving you there is pps for the outchberance while waiting for a macaron lit but wan\n",
      "\n",
      "famthan run and enjoyed fakily their shrues i see pacary i had a kid told the quite amazing claam and my friend during at the ambiance martini is one of the samples with honey into a cheese eye savor with a sweet taste to spend a freeulefion the manages are always get that seasoned still relax unde\n",
      "\n",
      "901/901 [==============================] - 83s 92ms/step - loss: 0.4500\n"
     ]
    }
   ],
   "source": [
    "textgen_char_transfer.train_from_file(\n",
    "    '../../data/clean_reviews_sample.txt', \n",
    "    num_epochs=50, \n",
    "    gen_epochs=25, \n",
    "    header=False\n",
    ")"
   ]
  },
  {
   "cell_type": "code",
   "execution_count": 32,
   "metadata": {},
   "outputs": [
    {
     "name": "stdout",
     "output_type": "stream",
     "text": [
      "Model: \"model_8\"\n",
      "__________________________________________________________________________________________________\n",
      "Layer (type)                    Output Shape         Param #     Connected to                     \n",
      "==================================================================================================\n",
      "input (InputLayer)              [(None, 40)]         0                                            \n",
      "__________________________________________________________________________________________________\n",
      "embedding (Embedding)           (None, 40, 100)      46500       input[0][0]                      \n",
      "__________________________________________________________________________________________________\n",
      "rnn_1 (LSTM)                    (None, 40, 128)      117248      embedding[0][0]                  \n",
      "__________________________________________________________________________________________________\n",
      "rnn_2 (LSTM)                    (None, 40, 128)      131584      rnn_1[0][0]                      \n",
      "__________________________________________________________________________________________________\n",
      "rnn_concat (Concatenate)        (None, 40, 356)      0           embedding[0][0]                  \n",
      "                                                                 rnn_1[0][0]                      \n",
      "                                                                 rnn_2[0][0]                      \n",
      "__________________________________________________________________________________________________\n",
      "attention (AttentionWeightedAve (None, 356)          356         rnn_concat[0][0]                 \n",
      "__________________________________________________________________________________________________\n",
      "output (Dense)                  (None, 465)          166005      attention[0][0]                  \n",
      "==================================================================================================\n",
      "Total params: 461,693\n",
      "Trainable params: 461,693\n",
      "Non-trainable params: 0\n",
      "__________________________________________________________________________________________________\n"
     ]
    }
   ],
   "source": [
    "textgen_char_transfer.model.summary()"
   ]
  },
  {
   "cell_type": "code",
   "execution_count": 34,
   "metadata": {},
   "outputs": [
    {
     "name": "stdout",
     "output_type": "stream",
     "text": [
      "####################\n",
      "Temperature: 0.2\n",
      "####################\n",
      "wonderful lunchdinner spot for a starter and i cant wait to see whatty waitress which they spend as it is to be a surprisi come opened eggs that is the scratch every block the best pieces of friends \n",
      "\n",
      "wonderful lunchdinner spot for a started beanse beautiful spicy shrimp facial with a super for an elevate on to be prepared and it was so beautiful food and it was so friendly that they are a side of\n",
      "\n",
      "wonderful lunch special corner so i knee the second happy here is pretty interesting we ordered the city its probably the food was pained with their pit wa area and experience the service was separat\n",
      "\n",
      "####################\n",
      "Temperature: 0.5\n",
      "####################\n",
      "wonderful lunch special cool case of baked overall i highly recommend\n",
      "\n",
      "wonderful lunch special cool case for mins and i mean theyll make this fried really clay and the chicken was so many one of the same time the usually piece of the bartender they can accommodly much a\n",
      "\n",
      "wonderful lunchdinner spot for anyone that was just the menu and server that i dispense just to lol\n",
      "\n",
      "####################\n",
      "Temperature: 1.0\n",
      "####################\n",
      "wonderful lifesting quatto warm becomemes and friendly wafty hopestoren the piece of kimchi everyone looking it i disped it was very implementma in flow if you rakled ive trip and i am extremely wait\n",
      "\n",
      "wonderful place come quattionser hipster waiter to one bite about cocktails the restroom at the table singlemgicuate with a haman tuts day and screens an elevatop to go back and the interior of semol\n",
      "\n",
      "wonderful lobsker where people mostly helpful and coffee is the elevators perfect for my extenising weve wanted to get a thing curtain my let my name combining to tavoral overload into me along with \n",
      "\n"
     ]
    }
   ],
   "source": [
    "textgen_char_transfer.generate_samples(prefix=\"wonderful\", max_gen_length=200)"
   ]
  },
  {
   "cell_type": "markdown",
   "metadata": {},
   "source": [
    "### Losses"
   ]
  },
  {
   "cell_type": "code",
   "execution_count": 11,
   "metadata": {},
   "outputs": [],
   "source": [
    "import matplotlib.pyplot as plt\n",
    "import numpy as np\n",
    "import seaborn as sns\n",
    "\n",
    "sns.set_style(\"darkgrid\")\n",
    "sns.set(rc={'figure.figsize':(12, 8)})"
   ]
  },
  {
   "cell_type": "code",
   "execution_count": 12,
   "metadata": {},
   "outputs": [
    {
     "data": {
      "image/png": "[encoded data removed]",
      "text/plain": [
       "<Figure size 432x288 with 1 Axes>"
      ]
     },
     "metadata": {
      "needs_background": "light"
     },
     "output_type": "display_data"
    }
   ],
   "source": [
    "plt.plot(textgen_char.history.history[\"loss\"],  label='char-rnn')\n",
    "plt.legend(loc='upper right')\n",
    "plt.show()"
   ]
  },
  {
   "cell_type": "code",
   "execution_count": 31,
   "metadata": {},
   "outputs": [
    {
     "data": {
      "image/png": "[encoded data removed]",
      "text/plain": [
       "<Figure size 432x288 with 1 Axes>"
      ]
     },
     "metadata": {
      "needs_background": "light"
     },
     "output_type": "display_data"
    }
   ],
   "source": [
    "plt.plot(textgen_char_transfer.history.history[\"loss\"],  label='char-rnn transfer learning')\n",
    "plt.legend(loc='upper right')\n",
    "plt.show()"
   ]
  },
  {
   "cell_type": "code",
   "execution_count": 2,
   "metadata": {},
   "outputs": [
    {
     "data": {
      "text/plain": [
       "'/home/jovyan/workspace/text-generation-ca/char-rnn/word_level_gary_danko_weights.hdf5'"
      ]
     },
     "execution_count": 2,
     "metadata": {},
     "output_type": "execute_result"
    }
   ],
   "source": [
    "import os\n",
    "os.path.join(os.path.abspath(os.getcwd()), \"word_level_gary_danko_weights.hdf5\")"
   ]
  },
  {
   "cell_type": "code",
   "execution_count": null,
   "metadata": {},
   "outputs": [],
   "source": []
  }
 ],
 "metadata": {
  "kernelspec": {
   "display_name": "Python 3",
   "language": "python",
   "name": "python3"
  },
  "language_info": {
   "codemirror_mode": {
    "name": "ipython",
    "version": 3
   },
   "file_extension": ".py",
   "mimetype": "text/x-python",
   "name": "python",
   "nbconvert_exporter": "python",
   "pygments_lexer": "ipython3",
   "version": "3.6.10"
  }
 },
 "nbformat": 4,
 "nbformat_minor": 4
}
